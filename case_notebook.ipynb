{
 "cells": [
  {
   "cell_type": "markdown",
   "id": "bd212b4d-5c7d-46e0-a20a-fe563e93224e",
   "metadata": {},
   "source": [
    "# 0.0 Imports"
   ]
  },
  {
   "cell_type": "code",
   "execution_count": 1,
   "id": "420faa1a-b0dc-4fa7-b334-1d2208149f3d",
   "metadata": {},
   "outputs": [],
   "source": [
    "# Bibliotecas utilizadas\n",
    "import pandas as  pd\n",
    "import numpy as   np\n",
    "import seaborn as sns\n",
    "import inflection\n",
    "from matplotlib           import pyplot as plt\n",
    "from IPython.core.display import HTML"
   ]
  },
  {
   "cell_type": "markdown",
   "id": "70f9ca98-9763-46fc-bacd-59352306fa6d",
   "metadata": {},
   "source": [
    "## 0.1 Helper Functions"
   ]
  },
  {
   "cell_type": "code",
   "execution_count": 2,
   "id": "15fe5475-0c6e-40e1-ba3e-44b54de4f26b",
   "metadata": {},
   "outputs": [],
   "source": [
    "# Configuração padrão do Jupyter inicial\n",
    "def jupyter_settings():\n",
    "    %matplotlib inline\n",
    "    %pylab inline\n",
    "\n",
    "    plt.style.use( 'bmh' )\n",
    "    plt.rcParams['figure.figsize'] = [25, 12]\n",
    "    plt.rcParams['font.size'] = 24\n",
    "    \n",
    "    display( HTML( '<style>.container { width:100% !important; }</style>') )\n",
    "    pd.options.display.max_columns = None\n",
    "    pd.options.display.max_rows = None\n",
    "    pd.set_option( 'display.expand_frame_repr', False )\n",
    "    \n",
    "    sns.set()"
   ]
  },
  {
   "cell_type": "code",
   "execution_count": 3,
   "id": "e5cfec28-7c2c-47b2-b3d4-bd0f6eafc3ea",
   "metadata": {},
   "outputs": [
    {
     "name": "stdout",
     "output_type": "stream",
     "text": [
      "%pylab is deprecated, use %matplotlib inline and import the required libraries.\n",
      "Populating the interactive namespace from numpy and matplotlib\n"
     ]
    },
    {
     "data": {
      "text/html": [
       "<style>.container { width:100% !important; }</style>"
      ],
      "text/plain": [
       "<IPython.core.display.HTML object>"
      ]
     },
     "metadata": {},
     "output_type": "display_data"
    }
   ],
   "source": [
    "jupyter_settings()"
   ]
  },
  {
   "cell_type": "markdown",
   "id": "a77a06ee-984a-4072-ae29-ad89ef1243a1",
   "metadata": {},
   "source": [
    "## 0.2 Loading Data"
   ]
  },
  {
   "cell_type": "code",
   "execution_count": 4,
   "id": "4b6813d8-7d69-4818-ae67-b85bc8d5061e",
   "metadata": {},
   "outputs": [],
   "source": [
    "# Carregando dados do perfil do eleitorado\n",
    "df_profiles_raw = pd.read_csv('data/eleitorado/perfil_eleitorado_2020/perfil_eleitorado_2020.csv', encoding='ISO-8859-1', sep = ';')\n",
    "\n",
    "# Carregando dados do perfil dos resultados do 1 turno\n",
    "df_results_raw = pd.read_csv('data/resultados/SP_turno_1.csv', encoding='ISO-8859-1', sep = ';')"
   ]
  },
  {
   "cell_type": "code",
   "execution_count": 5,
   "id": "ca14913a-1ef3-424d-96a7-121474a55e6d",
   "metadata": {},
   "outputs": [
    {
     "data": {
      "text/html": [
       "<div>\n",
       "<style scoped>\n",
       "    .dataframe tbody tr th:only-of-type {\n",
       "        vertical-align: middle;\n",
       "    }\n",
       "\n",
       "    .dataframe tbody tr th {\n",
       "        vertical-align: top;\n",
       "    }\n",
       "\n",
       "    .dataframe thead th {\n",
       "        text-align: right;\n",
       "    }\n",
       "</style>\n",
       "<table border=\"1\" class=\"dataframe\">\n",
       "  <thead>\n",
       "    <tr style=\"text-align: right;\">\n",
       "      <th></th>\n",
       "      <th>DT_GERACAO</th>\n",
       "      <th>HH_GERACAO</th>\n",
       "      <th>ANO_ELEICAO</th>\n",
       "      <th>SG_UF</th>\n",
       "      <th>CD_MUNICIPIO</th>\n",
       "      <th>NM_MUNICIPIO</th>\n",
       "      <th>CD_MUN_SIT_BIOMETRIA</th>\n",
       "      <th>DS_MUN_SIT_BIOMETRIA</th>\n",
       "      <th>NR_ZONA</th>\n",
       "      <th>CD_GENERO</th>\n",
       "      <th>DS_GENERO</th>\n",
       "      <th>CD_ESTADO_CIVIL</th>\n",
       "      <th>DS_ESTADO_CIVIL</th>\n",
       "      <th>CD_FAIXA_ETARIA</th>\n",
       "      <th>DS_FAIXA_ETARIA</th>\n",
       "      <th>CD_GRAU_ESCOLARIDADE</th>\n",
       "      <th>DS_GRAU_ESCOLARIDADE</th>\n",
       "      <th>QT_ELEITORES_PERFIL</th>\n",
       "      <th>QT_ELEITORES_BIOMETRIA</th>\n",
       "      <th>QT_ELEITORES_DEFICIENCIA</th>\n",
       "      <th>QT_ELEITORES_INC_NM_SOCIAL</th>\n",
       "    </tr>\n",
       "  </thead>\n",
       "  <tbody>\n",
       "    <tr>\n",
       "      <th>0</th>\n",
       "      <td>01/08/2020</td>\n",
       "      <td>08:37:48</td>\n",
       "      <td>2020</td>\n",
       "      <td>SP</td>\n",
       "      <td>70734</td>\n",
       "      <td>SÃO BENTO DO SAPUCAÍ</td>\n",
       "      <td>0</td>\n",
       "      <td>Sem biometria</td>\n",
       "      <td>314</td>\n",
       "      <td>4</td>\n",
       "      <td>FEMININO</td>\n",
       "      <td>3</td>\n",
       "      <td>CASADO</td>\n",
       "      <td>7074</td>\n",
       "      <td>70 a 74 anos</td>\n",
       "      <td>3</td>\n",
       "      <td>ENSINO FUNDAMENTAL INCOMPLETO</td>\n",
       "      <td>47</td>\n",
       "      <td>37</td>\n",
       "      <td>1</td>\n",
       "      <td>0</td>\n",
       "    </tr>\n",
       "    <tr>\n",
       "      <th>1</th>\n",
       "      <td>01/08/2020</td>\n",
       "      <td>08:37:48</td>\n",
       "      <td>2020</td>\n",
       "      <td>SP</td>\n",
       "      <td>70734</td>\n",
       "      <td>SÃO BENTO DO SAPUCAÍ</td>\n",
       "      <td>0</td>\n",
       "      <td>Sem biometria</td>\n",
       "      <td>314</td>\n",
       "      <td>4</td>\n",
       "      <td>FEMININO</td>\n",
       "      <td>3</td>\n",
       "      <td>CASADO</td>\n",
       "      <td>7074</td>\n",
       "      <td>70 a 74 anos</td>\n",
       "      <td>4</td>\n",
       "      <td>ENSINO FUNDAMENTAL COMPLETO</td>\n",
       "      <td>5</td>\n",
       "      <td>4</td>\n",
       "      <td>0</td>\n",
       "      <td>0</td>\n",
       "    </tr>\n",
       "    <tr>\n",
       "      <th>2</th>\n",
       "      <td>01/08/2020</td>\n",
       "      <td>08:37:48</td>\n",
       "      <td>2020</td>\n",
       "      <td>SP</td>\n",
       "      <td>70734</td>\n",
       "      <td>SÃO BENTO DO SAPUCAÍ</td>\n",
       "      <td>0</td>\n",
       "      <td>Sem biometria</td>\n",
       "      <td>314</td>\n",
       "      <td>4</td>\n",
       "      <td>FEMININO</td>\n",
       "      <td>3</td>\n",
       "      <td>CASADO</td>\n",
       "      <td>7074</td>\n",
       "      <td>70 a 74 anos</td>\n",
       "      <td>5</td>\n",
       "      <td>ENSINO MÉDIO INCOMPLETO</td>\n",
       "      <td>1</td>\n",
       "      <td>1</td>\n",
       "      <td>0</td>\n",
       "      <td>0</td>\n",
       "    </tr>\n",
       "    <tr>\n",
       "      <th>3</th>\n",
       "      <td>01/08/2020</td>\n",
       "      <td>08:37:48</td>\n",
       "      <td>2020</td>\n",
       "      <td>SP</td>\n",
       "      <td>70734</td>\n",
       "      <td>SÃO BENTO DO SAPUCAÍ</td>\n",
       "      <td>0</td>\n",
       "      <td>Sem biometria</td>\n",
       "      <td>314</td>\n",
       "      <td>4</td>\n",
       "      <td>FEMININO</td>\n",
       "      <td>3</td>\n",
       "      <td>CASADO</td>\n",
       "      <td>7074</td>\n",
       "      <td>70 a 74 anos</td>\n",
       "      <td>6</td>\n",
       "      <td>ENSINO MÉDIO COMPLETO</td>\n",
       "      <td>10</td>\n",
       "      <td>8</td>\n",
       "      <td>0</td>\n",
       "      <td>0</td>\n",
       "    </tr>\n",
       "    <tr>\n",
       "      <th>4</th>\n",
       "      <td>01/08/2020</td>\n",
       "      <td>08:37:48</td>\n",
       "      <td>2020</td>\n",
       "      <td>SP</td>\n",
       "      <td>70734</td>\n",
       "      <td>SÃO BENTO DO SAPUCAÍ</td>\n",
       "      <td>0</td>\n",
       "      <td>Sem biometria</td>\n",
       "      <td>314</td>\n",
       "      <td>4</td>\n",
       "      <td>FEMININO</td>\n",
       "      <td>3</td>\n",
       "      <td>CASADO</td>\n",
       "      <td>7074</td>\n",
       "      <td>70 a 74 anos</td>\n",
       "      <td>8</td>\n",
       "      <td>SUPERIOR COMPLETO</td>\n",
       "      <td>23</td>\n",
       "      <td>18</td>\n",
       "      <td>0</td>\n",
       "      <td>0</td>\n",
       "    </tr>\n",
       "  </tbody>\n",
       "</table>\n",
       "</div>"
      ],
      "text/plain": [
       "   DT_GERACAO HH_GERACAO  ANO_ELEICAO SG_UF  CD_MUNICIPIO          NM_MUNICIPIO  CD_MUN_SIT_BIOMETRIA DS_MUN_SIT_BIOMETRIA  NR_ZONA  CD_GENERO DS_GENERO  CD_ESTADO_CIVIL DS_ESTADO_CIVIL  CD_FAIXA_ETARIA                 DS_FAIXA_ETARIA  CD_GRAU_ESCOLARIDADE           DS_GRAU_ESCOLARIDADE  QT_ELEITORES_PERFIL  QT_ELEITORES_BIOMETRIA  QT_ELEITORES_DEFICIENCIA  QT_ELEITORES_INC_NM_SOCIAL\n",
       "0  01/08/2020   08:37:48         2020    SP         70734  SÃO BENTO DO SAPUCAÍ                     0        Sem biometria      314          4  FEMININO                3          CASADO             7074  70 a 74 anos                                       3  ENSINO FUNDAMENTAL INCOMPLETO                   47                      37                         1                           0\n",
       "1  01/08/2020   08:37:48         2020    SP         70734  SÃO BENTO DO SAPUCAÍ                     0        Sem biometria      314          4  FEMININO                3          CASADO             7074  70 a 74 anos                                       4    ENSINO FUNDAMENTAL COMPLETO                    5                       4                         0                           0\n",
       "2  01/08/2020   08:37:48         2020    SP         70734  SÃO BENTO DO SAPUCAÍ                     0        Sem biometria      314          4  FEMININO                3          CASADO             7074  70 a 74 anos                                       5        ENSINO MÉDIO INCOMPLETO                    1                       1                         0                           0\n",
       "3  01/08/2020   08:37:48         2020    SP         70734  SÃO BENTO DO SAPUCAÍ                     0        Sem biometria      314          4  FEMININO                3          CASADO             7074  70 a 74 anos                                       6          ENSINO MÉDIO COMPLETO                   10                       8                         0                           0\n",
       "4  01/08/2020   08:37:48         2020    SP         70734  SÃO BENTO DO SAPUCAÍ                     0        Sem biometria      314          4  FEMININO                3          CASADO             7074  70 a 74 anos                                       8              SUPERIOR COMPLETO                   23                      18                         0                           0"
      ]
     },
     "execution_count": 5,
     "metadata": {},
     "output_type": "execute_result"
    }
   ],
   "source": [
    "# Visualização das 5 primeiras linhas do dataset\n",
    "df_profiles_raw.head()"
   ]
  },
  {
   "cell_type": "code",
   "execution_count": 6,
   "id": "2dbe7f89-831f-4980-b067-9a5181ab0055",
   "metadata": {},
   "outputs": [
    {
     "data": {
      "text/html": [
       "<div>\n",
       "<style scoped>\n",
       "    .dataframe tbody tr th:only-of-type {\n",
       "        vertical-align: middle;\n",
       "    }\n",
       "\n",
       "    .dataframe tbody tr th {\n",
       "        vertical-align: top;\n",
       "    }\n",
       "\n",
       "    .dataframe thead th {\n",
       "        text-align: right;\n",
       "    }\n",
       "</style>\n",
       "<table border=\"1\" class=\"dataframe\">\n",
       "  <thead>\n",
       "    <tr style=\"text-align: right;\">\n",
       "      <th></th>\n",
       "      <th>DT_GERACAO</th>\n",
       "      <th>HH_GERACAO</th>\n",
       "      <th>ANO_ELEICAO</th>\n",
       "      <th>CD_TIPO_ELEICAO</th>\n",
       "      <th>NM_TIPO_ELEICAO</th>\n",
       "      <th>CD_PLEITO</th>\n",
       "      <th>DT_PLEITO</th>\n",
       "      <th>NR_TURNO</th>\n",
       "      <th>CD_ELEICAO</th>\n",
       "      <th>DS_ELEICAO</th>\n",
       "      <th>SG_UF</th>\n",
       "      <th>CD_MUNICIPIO</th>\n",
       "      <th>NM_MUNICIPIO</th>\n",
       "      <th>NR_ZONA</th>\n",
       "      <th>NR_SECAO</th>\n",
       "      <th>NR_LOCAL_VOTACAO</th>\n",
       "      <th>CD_CARGO_PERGUNTA</th>\n",
       "      <th>DS_CARGO_PERGUNTA</th>\n",
       "      <th>NR_PARTIDO</th>\n",
       "      <th>SG_PARTIDO</th>\n",
       "      <th>NM_PARTIDO</th>\n",
       "      <th>DT_BU_RECEBIDO</th>\n",
       "      <th>QT_APTOS</th>\n",
       "      <th>QT_COMPARECIMENTO</th>\n",
       "      <th>QT_ABSTENCOES</th>\n",
       "      <th>CD_TIPO_URNA</th>\n",
       "      <th>DS_TIPO_URNA</th>\n",
       "      <th>CD_TIPO_VOTAVEL</th>\n",
       "      <th>DS_TIPO_VOTAVEL</th>\n",
       "      <th>NR_VOTAVEL</th>\n",
       "      <th>NM_VOTAVEL</th>\n",
       "      <th>QT_VOTOS</th>\n",
       "      <th>NR_URNA_EFETIVADA</th>\n",
       "      <th>CD_CARGA_1_URNA_EFETIVADA</th>\n",
       "      <th>CD_CARGA_2_URNA_EFETIVADA</th>\n",
       "      <th>CD_FLASHCARD_URNA_EFETIVADA</th>\n",
       "      <th>DT_CARGA_URNA_EFETIVADA</th>\n",
       "      <th>DS_CARGO_PERGUNTA_SECAO</th>\n",
       "      <th>DS_AGREGADAS</th>\n",
       "      <th>DT_ABERTURA</th>\n",
       "      <th>DT_ENCERRAMENTO</th>\n",
       "      <th>QT_ELEITORES_BIOMETRIA_NH</th>\n",
       "      <th>DT_EMISSAO_BU</th>\n",
       "      <th>NR_JUNTA_APURADORA</th>\n",
       "      <th>NR_TURMA_APURADORA</th>\n",
       "    </tr>\n",
       "  </thead>\n",
       "  <tbody>\n",
       "    <tr>\n",
       "      <th>0</th>\n",
       "      <td>18/11/2020</td>\n",
       "      <td>15:49:53</td>\n",
       "      <td>2020</td>\n",
       "      <td>0</td>\n",
       "      <td>Eleição Ordinária</td>\n",
       "      <td>304</td>\n",
       "      <td>15/11/2020</td>\n",
       "      <td>1</td>\n",
       "      <td>426</td>\n",
       "      <td>Eleições Municipais 2020</td>\n",
       "      <td>SP</td>\n",
       "      <td>71072</td>\n",
       "      <td>SÃO PAULO</td>\n",
       "      <td>1</td>\n",
       "      <td>1</td>\n",
       "      <td>1015</td>\n",
       "      <td>11</td>\n",
       "      <td>Prefeito</td>\n",
       "      <td>-1</td>\n",
       "      <td>#NULO#</td>\n",
       "      <td>#NULO#</td>\n",
       "      <td>15/11/2020 22:26:42</td>\n",
       "      <td>386</td>\n",
       "      <td>241</td>\n",
       "      <td>145</td>\n",
       "      <td>1</td>\n",
       "      <td>APURADA</td>\n",
       "      <td>2</td>\n",
       "      <td>Branco</td>\n",
       "      <td>95</td>\n",
       "      <td>Branco</td>\n",
       "      <td>5</td>\n",
       "      <td>1618073</td>\n",
       "      <td>432.454.548.163.181.015.</td>\n",
       "      <td>306.728</td>\n",
       "      <td>E0BA7264</td>\n",
       "      <td>03/11/2020 11:19:00</td>\n",
       "      <td>11 - 1</td>\n",
       "      <td>#NULO#</td>\n",
       "      <td>15/11/2020 07:00:00</td>\n",
       "      <td>15/11/2020 17:02:46</td>\n",
       "      <td>0</td>\n",
       "      <td>15/11/2020 17:04:06</td>\n",
       "      <td>-1</td>\n",
       "      <td>-1</td>\n",
       "    </tr>\n",
       "    <tr>\n",
       "      <th>1</th>\n",
       "      <td>18/11/2020</td>\n",
       "      <td>15:49:53</td>\n",
       "      <td>2020</td>\n",
       "      <td>0</td>\n",
       "      <td>Eleição Ordinária</td>\n",
       "      <td>304</td>\n",
       "      <td>15/11/2020</td>\n",
       "      <td>1</td>\n",
       "      <td>426</td>\n",
       "      <td>Eleições Municipais 2020</td>\n",
       "      <td>SP</td>\n",
       "      <td>71072</td>\n",
       "      <td>SÃO PAULO</td>\n",
       "      <td>1</td>\n",
       "      <td>1</td>\n",
       "      <td>1015</td>\n",
       "      <td>11</td>\n",
       "      <td>Prefeito</td>\n",
       "      <td>13</td>\n",
       "      <td>PT</td>\n",
       "      <td>Partido dos Trabalhadores</td>\n",
       "      <td>15/11/2020 22:26:42</td>\n",
       "      <td>386</td>\n",
       "      <td>241</td>\n",
       "      <td>145</td>\n",
       "      <td>1</td>\n",
       "      <td>APURADA</td>\n",
       "      <td>1</td>\n",
       "      <td>Nominal</td>\n",
       "      <td>13</td>\n",
       "      <td>JILMAR TATTO</td>\n",
       "      <td>4</td>\n",
       "      <td>1618073</td>\n",
       "      <td>432.454.548.163.181.015.</td>\n",
       "      <td>306.728</td>\n",
       "      <td>E0BA7264</td>\n",
       "      <td>03/11/2020 11:19:00</td>\n",
       "      <td>11 - 1</td>\n",
       "      <td>#NULO#</td>\n",
       "      <td>15/11/2020 07:00:00</td>\n",
       "      <td>15/11/2020 17:02:46</td>\n",
       "      <td>0</td>\n",
       "      <td>15/11/2020 17:04:06</td>\n",
       "      <td>-1</td>\n",
       "      <td>-1</td>\n",
       "    </tr>\n",
       "    <tr>\n",
       "      <th>2</th>\n",
       "      <td>18/11/2020</td>\n",
       "      <td>15:49:53</td>\n",
       "      <td>2020</td>\n",
       "      <td>0</td>\n",
       "      <td>Eleição Ordinária</td>\n",
       "      <td>304</td>\n",
       "      <td>15/11/2020</td>\n",
       "      <td>1</td>\n",
       "      <td>426</td>\n",
       "      <td>Eleições Municipais 2020</td>\n",
       "      <td>SP</td>\n",
       "      <td>71072</td>\n",
       "      <td>SÃO PAULO</td>\n",
       "      <td>1</td>\n",
       "      <td>1</td>\n",
       "      <td>1015</td>\n",
       "      <td>11</td>\n",
       "      <td>Prefeito</td>\n",
       "      <td>18</td>\n",
       "      <td>REDE</td>\n",
       "      <td>Rede Sustentabilidade</td>\n",
       "      <td>15/11/2020 22:26:42</td>\n",
       "      <td>386</td>\n",
       "      <td>241</td>\n",
       "      <td>145</td>\n",
       "      <td>1</td>\n",
       "      <td>APURADA</td>\n",
       "      <td>1</td>\n",
       "      <td>Nominal</td>\n",
       "      <td>18</td>\n",
       "      <td>MARINA HELOU</td>\n",
       "      <td>1</td>\n",
       "      <td>1618073</td>\n",
       "      <td>432.454.548.163.181.015.</td>\n",
       "      <td>306.728</td>\n",
       "      <td>E0BA7264</td>\n",
       "      <td>03/11/2020 11:19:00</td>\n",
       "      <td>11 - 1</td>\n",
       "      <td>#NULO#</td>\n",
       "      <td>15/11/2020 07:00:00</td>\n",
       "      <td>15/11/2020 17:02:46</td>\n",
       "      <td>0</td>\n",
       "      <td>15/11/2020 17:04:06</td>\n",
       "      <td>-1</td>\n",
       "      <td>-1</td>\n",
       "    </tr>\n",
       "    <tr>\n",
       "      <th>3</th>\n",
       "      <td>18/11/2020</td>\n",
       "      <td>15:49:53</td>\n",
       "      <td>2020</td>\n",
       "      <td>0</td>\n",
       "      <td>Eleição Ordinária</td>\n",
       "      <td>304</td>\n",
       "      <td>15/11/2020</td>\n",
       "      <td>1</td>\n",
       "      <td>426</td>\n",
       "      <td>Eleições Municipais 2020</td>\n",
       "      <td>SP</td>\n",
       "      <td>71072</td>\n",
       "      <td>SÃO PAULO</td>\n",
       "      <td>1</td>\n",
       "      <td>1</td>\n",
       "      <td>1015</td>\n",
       "      <td>11</td>\n",
       "      <td>Prefeito</td>\n",
       "      <td>40</td>\n",
       "      <td>PSB</td>\n",
       "      <td>Partido Socialista Brasileiro</td>\n",
       "      <td>15/11/2020 22:26:42</td>\n",
       "      <td>386</td>\n",
       "      <td>241</td>\n",
       "      <td>145</td>\n",
       "      <td>1</td>\n",
       "      <td>APURADA</td>\n",
       "      <td>1</td>\n",
       "      <td>Nominal</td>\n",
       "      <td>40</td>\n",
       "      <td>MÁRCIO FRANÇA</td>\n",
       "      <td>29</td>\n",
       "      <td>1618073</td>\n",
       "      <td>432.454.548.163.181.015.</td>\n",
       "      <td>306.728</td>\n",
       "      <td>E0BA7264</td>\n",
       "      <td>03/11/2020 11:19:00</td>\n",
       "      <td>11 - 1</td>\n",
       "      <td>#NULO#</td>\n",
       "      <td>15/11/2020 07:00:00</td>\n",
       "      <td>15/11/2020 17:02:46</td>\n",
       "      <td>0</td>\n",
       "      <td>15/11/2020 17:04:06</td>\n",
       "      <td>-1</td>\n",
       "      <td>-1</td>\n",
       "    </tr>\n",
       "    <tr>\n",
       "      <th>4</th>\n",
       "      <td>18/11/2020</td>\n",
       "      <td>15:49:53</td>\n",
       "      <td>2020</td>\n",
       "      <td>0</td>\n",
       "      <td>Eleição Ordinária</td>\n",
       "      <td>304</td>\n",
       "      <td>15/11/2020</td>\n",
       "      <td>1</td>\n",
       "      <td>426</td>\n",
       "      <td>Eleições Municipais 2020</td>\n",
       "      <td>SP</td>\n",
       "      <td>71072</td>\n",
       "      <td>SÃO PAULO</td>\n",
       "      <td>1</td>\n",
       "      <td>1</td>\n",
       "      <td>1015</td>\n",
       "      <td>11</td>\n",
       "      <td>Prefeito</td>\n",
       "      <td>45</td>\n",
       "      <td>PSDB</td>\n",
       "      <td>Partido da Social Democracia Brasileira</td>\n",
       "      <td>15/11/2020 22:26:42</td>\n",
       "      <td>386</td>\n",
       "      <td>241</td>\n",
       "      <td>145</td>\n",
       "      <td>1</td>\n",
       "      <td>APURADA</td>\n",
       "      <td>1</td>\n",
       "      <td>Nominal</td>\n",
       "      <td>45</td>\n",
       "      <td>BRUNO COVAS</td>\n",
       "      <td>111</td>\n",
       "      <td>1618073</td>\n",
       "      <td>432.454.548.163.181.015.</td>\n",
       "      <td>306.728</td>\n",
       "      <td>E0BA7264</td>\n",
       "      <td>03/11/2020 11:19:00</td>\n",
       "      <td>11 - 1</td>\n",
       "      <td>#NULO#</td>\n",
       "      <td>15/11/2020 07:00:00</td>\n",
       "      <td>15/11/2020 17:02:46</td>\n",
       "      <td>0</td>\n",
       "      <td>15/11/2020 17:04:06</td>\n",
       "      <td>-1</td>\n",
       "      <td>-1</td>\n",
       "    </tr>\n",
       "  </tbody>\n",
       "</table>\n",
       "</div>"
      ],
      "text/plain": [
       "   DT_GERACAO HH_GERACAO  ANO_ELEICAO  CD_TIPO_ELEICAO    NM_TIPO_ELEICAO  CD_PLEITO   DT_PLEITO  NR_TURNO  CD_ELEICAO                DS_ELEICAO SG_UF  CD_MUNICIPIO NM_MUNICIPIO  NR_ZONA  NR_SECAO  NR_LOCAL_VOTACAO  CD_CARGO_PERGUNTA DS_CARGO_PERGUNTA  NR_PARTIDO SG_PARTIDO                               NM_PARTIDO       DT_BU_RECEBIDO  QT_APTOS  QT_COMPARECIMENTO  QT_ABSTENCOES  CD_TIPO_URNA DS_TIPO_URNA  CD_TIPO_VOTAVEL DS_TIPO_VOTAVEL  NR_VOTAVEL     NM_VOTAVEL  QT_VOTOS  NR_URNA_EFETIVADA CD_CARGA_1_URNA_EFETIVADA  CD_CARGA_2_URNA_EFETIVADA CD_FLASHCARD_URNA_EFETIVADA DT_CARGA_URNA_EFETIVADA DS_CARGO_PERGUNTA_SECAO DS_AGREGADAS          DT_ABERTURA      DT_ENCERRAMENTO  QT_ELEITORES_BIOMETRIA_NH        DT_EMISSAO_BU  NR_JUNTA_APURADORA  NR_TURMA_APURADORA\n",
       "0  18/11/2020   15:49:53         2020                0  Eleição Ordinária        304  15/11/2020         1         426  Eleições Municipais 2020    SP         71072    SÃO PAULO        1         1              1015                 11          Prefeito          -1     #NULO#                                   #NULO#  15/11/2020 22:26:42       386                241            145             1      APURADA                2          Branco          95         Branco         5            1618073  432.454.548.163.181.015.                    306.728                    E0BA7264     03/11/2020 11:19:00                  11 - 1       #NULO#  15/11/2020 07:00:00  15/11/2020 17:02:46                          0  15/11/2020 17:04:06                  -1                  -1\n",
       "1  18/11/2020   15:49:53         2020                0  Eleição Ordinária        304  15/11/2020         1         426  Eleições Municipais 2020    SP         71072    SÃO PAULO        1         1              1015                 11          Prefeito          13         PT                Partido dos Trabalhadores  15/11/2020 22:26:42       386                241            145             1      APURADA                1         Nominal          13   JILMAR TATTO         4            1618073  432.454.548.163.181.015.                    306.728                    E0BA7264     03/11/2020 11:19:00                  11 - 1       #NULO#  15/11/2020 07:00:00  15/11/2020 17:02:46                          0  15/11/2020 17:04:06                  -1                  -1\n",
       "2  18/11/2020   15:49:53         2020                0  Eleição Ordinária        304  15/11/2020         1         426  Eleições Municipais 2020    SP         71072    SÃO PAULO        1         1              1015                 11          Prefeito          18       REDE                    Rede Sustentabilidade  15/11/2020 22:26:42       386                241            145             1      APURADA                1         Nominal          18   MARINA HELOU         1            1618073  432.454.548.163.181.015.                    306.728                    E0BA7264     03/11/2020 11:19:00                  11 - 1       #NULO#  15/11/2020 07:00:00  15/11/2020 17:02:46                          0  15/11/2020 17:04:06                  -1                  -1\n",
       "3  18/11/2020   15:49:53         2020                0  Eleição Ordinária        304  15/11/2020         1         426  Eleições Municipais 2020    SP         71072    SÃO PAULO        1         1              1015                 11          Prefeito          40        PSB            Partido Socialista Brasileiro  15/11/2020 22:26:42       386                241            145             1      APURADA                1         Nominal          40  MÁRCIO FRANÇA        29            1618073  432.454.548.163.181.015.                    306.728                    E0BA7264     03/11/2020 11:19:00                  11 - 1       #NULO#  15/11/2020 07:00:00  15/11/2020 17:02:46                          0  15/11/2020 17:04:06                  -1                  -1\n",
       "4  18/11/2020   15:49:53         2020                0  Eleição Ordinária        304  15/11/2020         1         426  Eleições Municipais 2020    SP         71072    SÃO PAULO        1         1              1015                 11          Prefeito          45       PSDB  Partido da Social Democracia Brasileira  15/11/2020 22:26:42       386                241            145             1      APURADA                1         Nominal          45    BRUNO COVAS       111            1618073  432.454.548.163.181.015.                    306.728                    E0BA7264     03/11/2020 11:19:00                  11 - 1       #NULO#  15/11/2020 07:00:00  15/11/2020 17:02:46                          0  15/11/2020 17:04:06                  -1                  -1"
      ]
     },
     "execution_count": 6,
     "metadata": {},
     "output_type": "execute_result"
    }
   ],
   "source": [
    "# Visualização das 5 primeiras linhas do dataset\n",
    "df_results_raw.head()"
   ]
  },
  {
   "cell_type": "markdown",
   "id": "d09a0332-7111-4d73-ab6f-6e2f9d2ddee3",
   "metadata": {},
   "source": [
    "# 1.0 Data Description"
   ]
  },
  {
   "cell_type": "code",
   "execution_count": 7,
   "id": "3f6027fc-046a-4f7f-a225-afe545832a6a",
   "metadata": {},
   "outputs": [],
   "source": [
    "# Cópias para otimização\n",
    "df_profiles = df_profiles_raw.copy()\n",
    "df_results = df_results_raw.copy()"
   ]
  },
  {
   "cell_type": "markdown",
   "id": "f2763cc3-2dee-4571-91ca-c0819b75284a",
   "metadata": {},
   "source": [
    "## 1.1 Rename Columns"
   ]
  },
  {
   "cell_type": "code",
   "execution_count": 8,
   "id": "a8614f4d-2af4-44e1-b9d5-c80f178fb36e",
   "metadata": {},
   "outputs": [],
   "source": [
    "# Profiles Database - Mudar para snake case\n",
    "old_cols = ['DT_GERACAO', 'HH_GERACAO', 'ANO_ELEICAO', 'SG_UF', 'CD_MUNICIPIO',\n",
    "       'NM_MUNICIPIO', 'CD_MUN_SIT_BIOMETRIA', 'DS_MUN_SIT_BIOMETRIA',\n",
    "       'NR_ZONA', 'CD_GENERO', 'DS_GENERO', 'CD_ESTADO_CIVIL',\n",
    "       'DS_ESTADO_CIVIL', 'CD_FAIXA_ETARIA', 'DS_FAIXA_ETARIA',\n",
    "       'CD_GRAU_ESCOLARIDADE', 'DS_GRAU_ESCOLARIDADE', 'QT_ELEITORES_PERFIL',\n",
    "       'QT_ELEITORES_BIOMETRIA', 'QT_ELEITORES_DEFICIENCIA',\n",
    "       'QT_ELEITORES_INC_NM_SOCIAL']\n",
    "\n",
    "snake_case = lambda x: inflection.underscore(x)\n",
    "\n",
    "new_cols = list( map(snake_case, old_cols))\n",
    "df_profiles.columns = new_cols"
   ]
  },
  {
   "cell_type": "code",
   "execution_count": 9,
   "id": "a674446c-c25e-492c-91c7-98e965b6934f",
   "metadata": {},
   "outputs": [],
   "source": [
    "# Results Database - Mudar para snake case\n",
    "old_cols = ['DT_GERACAO', 'HH_GERACAO', 'ANO_ELEICAO', 'CD_TIPO_ELEICAO',\n",
    "       'NM_TIPO_ELEICAO', 'CD_PLEITO', 'DT_PLEITO', 'NR_TURNO', 'CD_ELEICAO',\n",
    "       'DS_ELEICAO', 'SG_UF', 'CD_MUNICIPIO', 'NM_MUNICIPIO', 'NR_ZONA',\n",
    "       'NR_SECAO', 'NR_LOCAL_VOTACAO', 'CD_CARGO_PERGUNTA',\n",
    "       'DS_CARGO_PERGUNTA', 'NR_PARTIDO', 'SG_PARTIDO', 'NM_PARTIDO',\n",
    "       'DT_BU_RECEBIDO', 'QT_APTOS', 'QT_COMPARECIMENTO', 'QT_ABSTENCOES',\n",
    "       'CD_TIPO_URNA', 'DS_TIPO_URNA', 'CD_TIPO_VOTAVEL', 'DS_TIPO_VOTAVEL',\n",
    "       'NR_VOTAVEL', 'NM_VOTAVEL', 'QT_VOTOS', 'NR_URNA_EFETIVADA',\n",
    "       'CD_CARGA_1_URNA_EFETIVADA', 'CD_CARGA_2_URNA_EFETIVADA',\n",
    "       'CD_FLASHCARD_URNA_EFETIVADA', 'DT_CARGA_URNA_EFETIVADA',\n",
    "       'DS_CARGO_PERGUNTA_SECAO', 'DS_AGREGADAS', 'DT_ABERTURA',\n",
    "       'DT_ENCERRAMENTO', 'QT_ELEITORES_BIOMETRIA_NH', 'DT_EMISSAO_BU',\n",
    "       'NR_JUNTA_APURADORA', 'NR_TURMA_APURADORA']\n",
    "\n",
    "snake_case = lambda x: inflection.underscore(x)\n",
    "\n",
    "new_cols = list( map(snake_case, old_cols))\n",
    "df_results.columns = new_cols"
   ]
  },
  {
   "cell_type": "markdown",
   "id": "f1918521-974c-4dd1-bb79-c79a0e5b5355",
   "metadata": {},
   "source": [
    "## 1.2 Data Dimensions"
   ]
  },
  {
   "cell_type": "code",
   "execution_count": 10,
   "id": "9cfd0445-e9f5-4188-bbbc-442ee996ae4b",
   "metadata": {},
   "outputs": [
    {
     "name": "stdout",
     "output_type": "stream",
     "text": [
      "Número de linhas: 4248507\n",
      "Número de colunas: 21\n"
     ]
    }
   ],
   "source": [
    "# Profiles Database\n",
    "print(\"Número de linhas: {}\".format(df_profiles.shape[0]))\n",
    "print(\"Número de colunas: {}\".format(df_profiles.shape[1]))"
   ]
  },
  {
   "cell_type": "code",
   "execution_count": 11,
   "id": "d83cf70a-bbb5-43bd-8d07-da40ec04f90c",
   "metadata": {},
   "outputs": [
    {
     "name": "stdout",
     "output_type": "stream",
     "text": [
      "Número de linhas: 9434000\n",
      "Número de colunas: 45\n"
     ]
    }
   ],
   "source": [
    "# Results Database\n",
    "print(\"Número de linhas: {}\".format(df_results.shape[0]))\n",
    "print(\"Número de colunas: {}\".format(df_results.shape[1]))"
   ]
  },
  {
   "cell_type": "markdown",
   "id": "52a8a46f-b895-4808-be9f-2f0a114798d6",
   "metadata": {},
   "source": [
    "## 1.3 Data Types"
   ]
  },
  {
   "cell_type": "markdown",
   "id": "25de29c5-ddf7-4bb6-bfee-de6a5c23bb02",
   "metadata": {},
   "source": [
    "### 1.3.1 Profiles Dataset Dtypes"
   ]
  },
  {
   "cell_type": "code",
   "execution_count": 12,
   "id": "eef43821-5387-419f-9e45-0c4ded44bc6f",
   "metadata": {},
   "outputs": [
    {
     "data": {
      "text/plain": [
       "dt_geracao                    object\n",
       "hh_geracao                    object\n",
       "ano_eleicao                    int64\n",
       "sg_uf                         object\n",
       "cd_municipio                   int64\n",
       "nm_municipio                  object\n",
       "cd_mun_sit_biometria           int64\n",
       "ds_mun_sit_biometria          object\n",
       "nr_zona                        int64\n",
       "cd_genero                      int64\n",
       "ds_genero                     object\n",
       "cd_estado_civil                int64\n",
       "ds_estado_civil               object\n",
       "cd_faixa_etaria                int64\n",
       "ds_faixa_etaria               object\n",
       "cd_grau_escolaridade           int64\n",
       "ds_grau_escolaridade          object\n",
       "qt_eleitores_perfil            int64\n",
       "qt_eleitores_biometria         int64\n",
       "qt_eleitores_deficiencia       int64\n",
       "qt_eleitores_inc_nm_social     int64\n",
       "dtype: object"
      ]
     },
     "execution_count": 12,
     "metadata": {},
     "output_type": "execute_result"
    }
   ],
   "source": [
    "# Tipologia dos dados do perfil do eleitorado\n",
    "df_profiles.dtypes"
   ]
  },
  {
   "cell_type": "markdown",
   "id": "583845f4-c1e7-47f9-9f40-80205bb66b67",
   "metadata": {},
   "source": [
    "### 1.3.2 Results Dataset Dtypes"
   ]
  },
  {
   "cell_type": "code",
   "execution_count": 13,
   "id": "3bbdca59-75b1-41ad-9afa-13467b513e65",
   "metadata": {},
   "outputs": [
    {
     "data": {
      "text/plain": [
       "dt_geracao                      object\n",
       "hh_geracao                      object\n",
       "ano_eleicao                      int64\n",
       "cd_tipo_eleicao                  int64\n",
       "nm_tipo_eleicao                 object\n",
       "cd_pleito                        int64\n",
       "dt_pleito                       object\n",
       "nr_turno                         int64\n",
       "cd_eleicao                       int64\n",
       "ds_eleicao                      object\n",
       "sg_uf                           object\n",
       "cd_municipio                     int64\n",
       "nm_municipio                    object\n",
       "nr_zona                          int64\n",
       "nr_secao                         int64\n",
       "nr_local_votacao                 int64\n",
       "cd_cargo_pergunta                int64\n",
       "ds_cargo_pergunta               object\n",
       "nr_partido                       int64\n",
       "sg_partido                      object\n",
       "nm_partido                      object\n",
       "dt_bu_recebido                  object\n",
       "qt_aptos                         int64\n",
       "qt_comparecimento                int64\n",
       "qt_abstencoes                    int64\n",
       "cd_tipo_urna                     int64\n",
       "ds_tipo_urna                    object\n",
       "cd_tipo_votavel                  int64\n",
       "ds_tipo_votavel                 object\n",
       "nr_votavel                       int64\n",
       "nm_votavel                      object\n",
       "qt_votos                         int64\n",
       "nr_urna_efetivada                int64\n",
       "cd_carga_1_urna_efetivada       object\n",
       "cd_carga_2_urna_efetivada      float64\n",
       "cd_flashcard_urna_efetivada     object\n",
       "dt_carga_urna_efetivada         object\n",
       "ds_cargo_pergunta_secao         object\n",
       "ds_agregadas                    object\n",
       "dt_abertura                     object\n",
       "dt_encerramento                 object\n",
       "qt_eleitores_biometria_nh        int64\n",
       "dt_emissao_bu                   object\n",
       "nr_junta_apuradora               int64\n",
       "nr_turma_apuradora               int64\n",
       "dtype: object"
      ]
     },
     "execution_count": 13,
     "metadata": {},
     "output_type": "execute_result"
    }
   ],
   "source": [
    "# Tipologia dos dados do perfil do eleitorado\n",
    "df_results.dtypes"
   ]
  },
  {
   "cell_type": "markdown",
   "id": "ee86ad97-b957-4ada-8fa1-9b4ccf11bf47",
   "metadata": {},
   "source": [
    "## 1.4 Drop Columns"
   ]
  },
  {
   "cell_type": "markdown",
   "id": "0f6d19a6-5f7e-498a-82e8-90974fd028ca",
   "metadata": {},
   "source": [
    "- Removendo colunas desnecessárias para a análise."
   ]
  },
  {
   "cell_type": "markdown",
   "id": "529de6de-da0a-4878-8cbe-49bfb70c0b22",
   "metadata": {},
   "source": [
    "### 1.4.1 Profiles Dataset"
   ]
  },
  {
   "cell_type": "markdown",
   "id": "a8d83536-1a65-49f4-b43d-d4109313adb2",
   "metadata": {},
   "source": [
    "Análise dos dados do perfil do eleitorado:\n",
    "\n",
    "- Colunas com categorias únicas são fortes candidatas para a exclusão.\n",
    "- Colunas que informam códigos também serão fortes candidatas.\n",
    "- Datas devem ser avaliadas primeiramente."
   ]
  },
  {
   "cell_type": "code",
   "execution_count": 14,
   "id": "fd32371a-155d-4eb0-9f84-84aeca460873",
   "metadata": {},
   "outputs": [
    {
     "name": "stdout",
     "output_type": "stream",
     "text": [
      "dt_geracao:1\n",
      "hh_geracao:1\n",
      "ano_eleicao:1\n",
      "sg_uf:26\n",
      "cd_municipio:5569\n",
      "nm_municipio:5296\n",
      "cd_mun_sit_biometria:1\n",
      "ds_mun_sit_biometria:1\n",
      "nr_zona:421\n",
      "cd_genero:3\n",
      "ds_genero:3\n",
      "cd_estado_civil:6\n",
      "ds_estado_civil:6\n",
      "cd_faixa_etaria:23\n",
      "ds_faixa_etaria:23\n",
      "cd_grau_escolaridade:9\n",
      "ds_grau_escolaridade:9\n",
      "qt_eleitores_perfil:2953\n",
      "qt_eleitores_biometria:2658\n",
      "qt_eleitores_deficiencia:173\n",
      "qt_eleitores_inc_nm_social:8\n"
     ]
    }
   ],
   "source": [
    "# Análise da quantidade de categorias em cada coluna do dataset\n",
    "for x in df_profiles.columns:\n",
    "    print(f'{x}:{df_profiles[x].unique().shape[0]}')"
   ]
  },
  {
   "cell_type": "code",
   "execution_count": 15,
   "id": "421e1e1c-df37-431d-b23b-0b50068f3bd1",
   "metadata": {},
   "outputs": [],
   "source": [
    "# Excluindo as colunas selecionadas\n",
    "df_profiles.drop(columns=['dt_geracao', 'hh_geracao', 'ano_eleicao', 'cd_municipio', 'cd_mun_sit_biometria', 'ds_mun_sit_biometria', 'cd_genero', \n",
    "                          'cd_estado_civil', 'cd_faixa_etaria', 'cd_grau_escolaridade'], inplace=True)"
   ]
  },
  {
   "cell_type": "code",
   "execution_count": 16,
   "id": "4c96603a-47ae-40e2-b39d-56896c4e37bd",
   "metadata": {},
   "outputs": [
    {
     "data": {
      "text/html": [
       "<div>\n",
       "<style scoped>\n",
       "    .dataframe tbody tr th:only-of-type {\n",
       "        vertical-align: middle;\n",
       "    }\n",
       "\n",
       "    .dataframe tbody tr th {\n",
       "        vertical-align: top;\n",
       "    }\n",
       "\n",
       "    .dataframe thead th {\n",
       "        text-align: right;\n",
       "    }\n",
       "</style>\n",
       "<table border=\"1\" class=\"dataframe\">\n",
       "  <thead>\n",
       "    <tr style=\"text-align: right;\">\n",
       "      <th></th>\n",
       "      <th>sg_uf</th>\n",
       "      <th>nm_municipio</th>\n",
       "      <th>nr_zona</th>\n",
       "      <th>ds_genero</th>\n",
       "      <th>ds_estado_civil</th>\n",
       "      <th>ds_faixa_etaria</th>\n",
       "      <th>ds_grau_escolaridade</th>\n",
       "      <th>qt_eleitores_perfil</th>\n",
       "      <th>qt_eleitores_biometria</th>\n",
       "      <th>qt_eleitores_deficiencia</th>\n",
       "      <th>qt_eleitores_inc_nm_social</th>\n",
       "    </tr>\n",
       "  </thead>\n",
       "  <tbody>\n",
       "    <tr>\n",
       "      <th>0</th>\n",
       "      <td>SP</td>\n",
       "      <td>SÃO BENTO DO SAPUCAÍ</td>\n",
       "      <td>314</td>\n",
       "      <td>FEMININO</td>\n",
       "      <td>CASADO</td>\n",
       "      <td>70 a 74 anos</td>\n",
       "      <td>ENSINO FUNDAMENTAL INCOMPLETO</td>\n",
       "      <td>47</td>\n",
       "      <td>37</td>\n",
       "      <td>1</td>\n",
       "      <td>0</td>\n",
       "    </tr>\n",
       "    <tr>\n",
       "      <th>1</th>\n",
       "      <td>SP</td>\n",
       "      <td>SÃO BENTO DO SAPUCAÍ</td>\n",
       "      <td>314</td>\n",
       "      <td>FEMININO</td>\n",
       "      <td>CASADO</td>\n",
       "      <td>70 a 74 anos</td>\n",
       "      <td>ENSINO FUNDAMENTAL COMPLETO</td>\n",
       "      <td>5</td>\n",
       "      <td>4</td>\n",
       "      <td>0</td>\n",
       "      <td>0</td>\n",
       "    </tr>\n",
       "    <tr>\n",
       "      <th>2</th>\n",
       "      <td>SP</td>\n",
       "      <td>SÃO BENTO DO SAPUCAÍ</td>\n",
       "      <td>314</td>\n",
       "      <td>FEMININO</td>\n",
       "      <td>CASADO</td>\n",
       "      <td>70 a 74 anos</td>\n",
       "      <td>ENSINO MÉDIO INCOMPLETO</td>\n",
       "      <td>1</td>\n",
       "      <td>1</td>\n",
       "      <td>0</td>\n",
       "      <td>0</td>\n",
       "    </tr>\n",
       "    <tr>\n",
       "      <th>3</th>\n",
       "      <td>SP</td>\n",
       "      <td>SÃO BENTO DO SAPUCAÍ</td>\n",
       "      <td>314</td>\n",
       "      <td>FEMININO</td>\n",
       "      <td>CASADO</td>\n",
       "      <td>70 a 74 anos</td>\n",
       "      <td>ENSINO MÉDIO COMPLETO</td>\n",
       "      <td>10</td>\n",
       "      <td>8</td>\n",
       "      <td>0</td>\n",
       "      <td>0</td>\n",
       "    </tr>\n",
       "    <tr>\n",
       "      <th>4</th>\n",
       "      <td>SP</td>\n",
       "      <td>SÃO BENTO DO SAPUCAÍ</td>\n",
       "      <td>314</td>\n",
       "      <td>FEMININO</td>\n",
       "      <td>CASADO</td>\n",
       "      <td>70 a 74 anos</td>\n",
       "      <td>SUPERIOR COMPLETO</td>\n",
       "      <td>23</td>\n",
       "      <td>18</td>\n",
       "      <td>0</td>\n",
       "      <td>0</td>\n",
       "    </tr>\n",
       "  </tbody>\n",
       "</table>\n",
       "</div>"
      ],
      "text/plain": [
       "  sg_uf          nm_municipio  nr_zona ds_genero ds_estado_civil                 ds_faixa_etaria           ds_grau_escolaridade  qt_eleitores_perfil  qt_eleitores_biometria  qt_eleitores_deficiencia  qt_eleitores_inc_nm_social\n",
       "0    SP  SÃO BENTO DO SAPUCAÍ      314  FEMININO          CASADO  70 a 74 anos                    ENSINO FUNDAMENTAL INCOMPLETO                   47                      37                         1                           0\n",
       "1    SP  SÃO BENTO DO SAPUCAÍ      314  FEMININO          CASADO  70 a 74 anos                      ENSINO FUNDAMENTAL COMPLETO                    5                       4                         0                           0\n",
       "2    SP  SÃO BENTO DO SAPUCAÍ      314  FEMININO          CASADO  70 a 74 anos                          ENSINO MÉDIO INCOMPLETO                    1                       1                         0                           0\n",
       "3    SP  SÃO BENTO DO SAPUCAÍ      314  FEMININO          CASADO  70 a 74 anos                            ENSINO MÉDIO COMPLETO                   10                       8                         0                           0\n",
       "4    SP  SÃO BENTO DO SAPUCAÍ      314  FEMININO          CASADO  70 a 74 anos                                SUPERIOR COMPLETO                   23                      18                         0                           0"
      ]
     },
     "execution_count": 16,
     "metadata": {},
     "output_type": "execute_result"
    }
   ],
   "source": [
    "df_profiles.head()"
   ]
  },
  {
   "cell_type": "markdown",
   "id": "ac883b1c-e27f-4c2e-a192-ed2ace81b7c5",
   "metadata": {},
   "source": [
    "### 1.4.2 Results Dataset"
   ]
  },
  {
   "cell_type": "markdown",
   "id": "5fe64f5e-4b42-4151-889a-33d49cbcb901",
   "metadata": {},
   "source": [
    "Análise dos dados dos resultados:\n",
    "\n",
    "- Colunas com categorias únicas são fortes candidatas para a exclusão.\n",
    "- Colunas que informam códigos também serão fortes candidatas.\n",
    "- Datas devem ser avaliadas primeiramente.\n",
    "- Colunas 'nm_partido' e 'nr_partido' representam a mesma coisa que 'sg_partido'.\n",
    "- 'dt_bu_recebido', 'dt_emissao_bu', 'dt_carga_urna_efetivada', 'ds_cargo_pergunta_secao', 'nr_junta_apuradora', 'nr_turma_apuradora', 'dt_abertura', 'dt_encerramento' e 'ds_agregadas' são irrelevantes para a análise."
   ]
  },
  {
   "cell_type": "code",
   "execution_count": 17,
   "id": "2bb1c7a8-c62f-437f-bd1e-58b8bd350634",
   "metadata": {},
   "outputs": [
    {
     "name": "stdout",
     "output_type": "stream",
     "text": [
      "dt_geracao:1\n",
      "hh_geracao:1\n",
      "ano_eleicao:1\n",
      "cd_tipo_eleicao:1\n",
      "nm_tipo_eleicao:1\n",
      "cd_pleito:1\n",
      "dt_pleito:1\n",
      "nr_turno:1\n",
      "cd_eleicao:1\n",
      "ds_eleicao:1\n",
      "sg_uf:1\n",
      "cd_municipio:645\n",
      "nm_municipio:645\n",
      "nr_zona:393\n",
      "nr_secao:1017\n",
      "nr_local_votacao:166\n",
      "cd_cargo_pergunta:2\n",
      "ds_cargo_pergunta:2\n",
      "nr_partido:34\n",
      "sg_partido:34\n",
      "nm_partido:34\n",
      "dt_bu_recebido:13799\n",
      "qt_aptos:461\n",
      "qt_comparecimento:399\n",
      "qt_abstencoes:250\n",
      "cd_tipo_urna:1\n",
      "ds_tipo_urna:1\n",
      "cd_tipo_votavel:4\n",
      "ds_tipo_votavel:4\n",
      "nr_votavel:11171\n",
      "nm_votavel:76621\n",
      "qt_votos:322\n",
      "nr_urna_efetivada:85714\n",
      "cd_carga_1_urna_efetivada:85714\n",
      "cd_carga_2_urna_efetivada:82254\n",
      "cd_flashcard_urna_efetivada:5051\n",
      "dt_carga_urna_efetivada:9889\n",
      "ds_cargo_pergunta_secao:2034\n",
      "ds_agregadas:661\n",
      "dt_abertura:1517\n",
      "dt_encerramento:1458\n",
      "qt_eleitores_biometria_nh:1\n",
      "dt_emissao_bu:1699\n",
      "nr_junta_apuradora:2\n",
      "nr_turma_apuradora:2\n"
     ]
    }
   ],
   "source": [
    "# Análise da quantidade de categorias em cada coluna do dataset\n",
    "for x in df_results.columns:\n",
    "    print(f'{x}:{df_results[x].unique().shape[0]}')"
   ]
  },
  {
   "cell_type": "code",
   "execution_count": 18,
   "id": "876f709c-c014-4080-bd4e-feee5b0ee3a7",
   "metadata": {},
   "outputs": [],
   "source": [
    "# Excluindo as colunas selecionadas\n",
    "df_results.drop(columns=['dt_geracao', 'hh_geracao', 'ano_eleicao', 'cd_tipo_eleicao', 'nm_partido', 'dt_bu_recebido', \n",
    "                         'dt_carga_urna_efetivada', 'nm_tipo_eleicao', 'cd_pleito', 'dt_pleito', 'nr_turno', \n",
    "                         'cd_eleicao', 'ds_eleicao', 'sg_uf', 'cd_municipio', 'cd_cargo_pergunta', 'nr_partido', \n",
    "                         'cd_tipo_urna', 'ds_tipo_urna', 'cd_tipo_votavel', 'cd_carga_1_urna_efetivada', 'cd_carga_2_urna_efetivada', \n",
    "                         'ds_cargo_pergunta_secao', 'cd_flashcard_urna_efetivada', 'dt_emissao_bu', 'nr_junta_apuradora', \n",
    "                         'nr_turma_apuradora', 'qt_eleitores_biometria_nh', 'dt_abertura', 'dt_encerramento', 'ds_agregadas'], inplace=True)"
   ]
  },
  {
   "cell_type": "code",
   "execution_count": 19,
   "id": "0a36cf2e-b73e-4029-a322-2a36f61c7050",
   "metadata": {},
   "outputs": [
    {
     "data": {
      "text/html": [
       "<div>\n",
       "<style scoped>\n",
       "    .dataframe tbody tr th:only-of-type {\n",
       "        vertical-align: middle;\n",
       "    }\n",
       "\n",
       "    .dataframe tbody tr th {\n",
       "        vertical-align: top;\n",
       "    }\n",
       "\n",
       "    .dataframe thead th {\n",
       "        text-align: right;\n",
       "    }\n",
       "</style>\n",
       "<table border=\"1\" class=\"dataframe\">\n",
       "  <thead>\n",
       "    <tr style=\"text-align: right;\">\n",
       "      <th></th>\n",
       "      <th>nm_municipio</th>\n",
       "      <th>nr_zona</th>\n",
       "      <th>nr_secao</th>\n",
       "      <th>nr_local_votacao</th>\n",
       "      <th>ds_cargo_pergunta</th>\n",
       "      <th>sg_partido</th>\n",
       "      <th>qt_aptos</th>\n",
       "      <th>qt_comparecimento</th>\n",
       "      <th>qt_abstencoes</th>\n",
       "      <th>ds_tipo_votavel</th>\n",
       "      <th>nr_votavel</th>\n",
       "      <th>nm_votavel</th>\n",
       "      <th>qt_votos</th>\n",
       "      <th>nr_urna_efetivada</th>\n",
       "    </tr>\n",
       "  </thead>\n",
       "  <tbody>\n",
       "    <tr>\n",
       "      <th>0</th>\n",
       "      <td>SÃO PAULO</td>\n",
       "      <td>1</td>\n",
       "      <td>1</td>\n",
       "      <td>1015</td>\n",
       "      <td>Prefeito</td>\n",
       "      <td>#NULO#</td>\n",
       "      <td>386</td>\n",
       "      <td>241</td>\n",
       "      <td>145</td>\n",
       "      <td>Branco</td>\n",
       "      <td>95</td>\n",
       "      <td>Branco</td>\n",
       "      <td>5</td>\n",
       "      <td>1618073</td>\n",
       "    </tr>\n",
       "    <tr>\n",
       "      <th>1</th>\n",
       "      <td>SÃO PAULO</td>\n",
       "      <td>1</td>\n",
       "      <td>1</td>\n",
       "      <td>1015</td>\n",
       "      <td>Prefeito</td>\n",
       "      <td>PT</td>\n",
       "      <td>386</td>\n",
       "      <td>241</td>\n",
       "      <td>145</td>\n",
       "      <td>Nominal</td>\n",
       "      <td>13</td>\n",
       "      <td>JILMAR TATTO</td>\n",
       "      <td>4</td>\n",
       "      <td>1618073</td>\n",
       "    </tr>\n",
       "    <tr>\n",
       "      <th>2</th>\n",
       "      <td>SÃO PAULO</td>\n",
       "      <td>1</td>\n",
       "      <td>1</td>\n",
       "      <td>1015</td>\n",
       "      <td>Prefeito</td>\n",
       "      <td>REDE</td>\n",
       "      <td>386</td>\n",
       "      <td>241</td>\n",
       "      <td>145</td>\n",
       "      <td>Nominal</td>\n",
       "      <td>18</td>\n",
       "      <td>MARINA HELOU</td>\n",
       "      <td>1</td>\n",
       "      <td>1618073</td>\n",
       "    </tr>\n",
       "    <tr>\n",
       "      <th>3</th>\n",
       "      <td>SÃO PAULO</td>\n",
       "      <td>1</td>\n",
       "      <td>1</td>\n",
       "      <td>1015</td>\n",
       "      <td>Prefeito</td>\n",
       "      <td>PSB</td>\n",
       "      <td>386</td>\n",
       "      <td>241</td>\n",
       "      <td>145</td>\n",
       "      <td>Nominal</td>\n",
       "      <td>40</td>\n",
       "      <td>MÁRCIO FRANÇA</td>\n",
       "      <td>29</td>\n",
       "      <td>1618073</td>\n",
       "    </tr>\n",
       "    <tr>\n",
       "      <th>4</th>\n",
       "      <td>SÃO PAULO</td>\n",
       "      <td>1</td>\n",
       "      <td>1</td>\n",
       "      <td>1015</td>\n",
       "      <td>Prefeito</td>\n",
       "      <td>PSDB</td>\n",
       "      <td>386</td>\n",
       "      <td>241</td>\n",
       "      <td>145</td>\n",
       "      <td>Nominal</td>\n",
       "      <td>45</td>\n",
       "      <td>BRUNO COVAS</td>\n",
       "      <td>111</td>\n",
       "      <td>1618073</td>\n",
       "    </tr>\n",
       "  </tbody>\n",
       "</table>\n",
       "</div>"
      ],
      "text/plain": [
       "  nm_municipio  nr_zona  nr_secao  nr_local_votacao ds_cargo_pergunta sg_partido  qt_aptos  qt_comparecimento  qt_abstencoes ds_tipo_votavel  nr_votavel     nm_votavel  qt_votos  nr_urna_efetivada\n",
       "0    SÃO PAULO        1         1              1015          Prefeito     #NULO#       386                241            145          Branco          95         Branco         5            1618073\n",
       "1    SÃO PAULO        1         1              1015          Prefeito         PT       386                241            145         Nominal          13   JILMAR TATTO         4            1618073\n",
       "2    SÃO PAULO        1         1              1015          Prefeito       REDE       386                241            145         Nominal          18   MARINA HELOU         1            1618073\n",
       "3    SÃO PAULO        1         1              1015          Prefeito        PSB       386                241            145         Nominal          40  MÁRCIO FRANÇA        29            1618073\n",
       "4    SÃO PAULO        1         1              1015          Prefeito       PSDB       386                241            145         Nominal          45    BRUNO COVAS       111            1618073"
      ]
     },
     "execution_count": 19,
     "metadata": {},
     "output_type": "execute_result"
    }
   ],
   "source": [
    "df_results.head()"
   ]
  },
  {
   "cell_type": "markdown",
   "id": "84041c8e-f758-47f9-bd71-69e0b774ec1a",
   "metadata": {},
   "source": [
    "## 1.5 Check NA"
   ]
  },
  {
   "cell_type": "markdown",
   "id": "bc7ef128-071c-44d5-ba67-add147735277",
   "metadata": {},
   "source": [
    "### 1.5.1 Profiles Dataset"
   ]
  },
  {
   "cell_type": "code",
   "execution_count": 20,
   "id": "10a7dc72-65ec-459d-868a-4aa9653c133c",
   "metadata": {},
   "outputs": [
    {
     "data": {
      "text/plain": [
       "sg_uf                         0\n",
       "nm_municipio                  0\n",
       "nr_zona                       0\n",
       "ds_genero                     0\n",
       "ds_estado_civil               0\n",
       "ds_faixa_etaria               0\n",
       "ds_grau_escolaridade          0\n",
       "qt_eleitores_perfil           0\n",
       "qt_eleitores_biometria        0\n",
       "qt_eleitores_deficiencia      0\n",
       "qt_eleitores_inc_nm_social    0\n",
       "dtype: int64"
      ]
     },
     "execution_count": 20,
     "metadata": {},
     "output_type": "execute_result"
    }
   ],
   "source": [
    "# Checagem de valores NA's sobre os dados do perfil do eleitorado\n",
    "df_profiles.isna().sum()"
   ]
  },
  {
   "cell_type": "markdown",
   "id": "5cea3f21-2ab5-4288-aa12-eff54c18f9eb",
   "metadata": {},
   "source": [
    "Consoante o PDF 'leiame.pdf' enviado, é possível existir campos preenchidos com:\n",
    "- '#NULO'\n",
    "- '#NE'\n",
    "- '#NULO#'"
   ]
  },
  {
   "cell_type": "code",
   "execution_count": 21,
   "id": "01f806f6-abb7-4ce4-9a3e-b4b78878bea5",
   "metadata": {},
   "outputs": [
    {
     "name": "stdout",
     "output_type": "stream",
     "text": [
      "Total de ocorrências de '#NE': 0\n"
     ]
    }
   ],
   "source": [
    "# Checagem de possíveis nulidades adicionais segundo o PDF\n",
    "contador_nulos_adicionais_ne = (df_profiles == '#NE').sum().sum()\n",
    "print(f\"Total de ocorrências de '#NE': {contador_nulos_adicionais_ne}\")"
   ]
  },
  {
   "cell_type": "code",
   "execution_count": 22,
   "id": "1d87c58c-a3db-4076-b4f9-573c1e8a30b2",
   "metadata": {},
   "outputs": [
    {
     "name": "stdout",
     "output_type": "stream",
     "text": [
      "Total de ocorrências de '#NULO#': 0\n"
     ]
    }
   ],
   "source": [
    "contador_nulos_adicionais_nulo1 = (df_profiles == '#NULO#').sum().sum()\n",
    "print(f\"Total de ocorrências de '#NULO#': {contador_nulos_adicionais_nulo1}\")"
   ]
  },
  {
   "cell_type": "code",
   "execution_count": 23,
   "id": "671a72f7-c05d-48f9-b12f-d4cf489dd634",
   "metadata": {},
   "outputs": [
    {
     "name": "stdout",
     "output_type": "stream",
     "text": [
      "Total de ocorrências de '#NULO': 0\n"
     ]
    }
   ],
   "source": [
    "contador_nulos_adicionais_nulo2 = (df_profiles == '#NULO').sum().sum()\n",
    "print(f\"Total de ocorrências de '#NULO': {contador_nulos_adicionais_nulo2}\")"
   ]
  },
  {
   "cell_type": "markdown",
   "id": "829bbdb2-967c-4a54-bc96-51dfd13841b0",
   "metadata": {},
   "source": [
    "### 1.5.2 Results Dataset"
   ]
  },
  {
   "cell_type": "code",
   "execution_count": 24,
   "id": "33cab351-b12a-4d0c-b748-c918d74c0331",
   "metadata": {},
   "outputs": [
    {
     "data": {
      "text/plain": [
       "nm_municipio          0\n",
       "nr_zona               0\n",
       "nr_secao              0\n",
       "nr_local_votacao      0\n",
       "ds_cargo_pergunta     0\n",
       "sg_partido            0\n",
       "qt_aptos              0\n",
       "qt_comparecimento     0\n",
       "qt_abstencoes         0\n",
       "ds_tipo_votavel       0\n",
       "nr_votavel            0\n",
       "nm_votavel           13\n",
       "qt_votos              0\n",
       "nr_urna_efetivada     0\n",
       "dtype: int64"
      ]
     },
     "execution_count": 24,
     "metadata": {},
     "output_type": "execute_result"
    }
   ],
   "source": [
    "# Checagem de valores NA's sobre os dados dos resultados do 1 turno\n",
    "df_results.isna().sum()"
   ]
  },
  {
   "cell_type": "markdown",
   "id": "aad6ede0-7031-4011-b0e1-05414f1d7458",
   "metadata": {},
   "source": [
    "#### 1.5.2.1 Investigando valores NaN "
   ]
  },
  {
   "cell_type": "code",
   "execution_count": 25,
   "id": "8554368e-86cf-4cad-b092-eda170ed411a",
   "metadata": {},
   "outputs": [
    {
     "data": {
      "text/html": [
       "<div>\n",
       "<style scoped>\n",
       "    .dataframe tbody tr th:only-of-type {\n",
       "        vertical-align: middle;\n",
       "    }\n",
       "\n",
       "    .dataframe tbody tr th {\n",
       "        vertical-align: top;\n",
       "    }\n",
       "\n",
       "    .dataframe thead th {\n",
       "        text-align: right;\n",
       "    }\n",
       "</style>\n",
       "<table border=\"1\" class=\"dataframe\">\n",
       "  <thead>\n",
       "    <tr style=\"text-align: right;\">\n",
       "      <th></th>\n",
       "      <th>nm_municipio</th>\n",
       "      <th>nr_zona</th>\n",
       "      <th>nr_secao</th>\n",
       "      <th>nr_local_votacao</th>\n",
       "      <th>ds_cargo_pergunta</th>\n",
       "      <th>sg_partido</th>\n",
       "      <th>qt_aptos</th>\n",
       "      <th>qt_comparecimento</th>\n",
       "      <th>qt_abstencoes</th>\n",
       "      <th>ds_tipo_votavel</th>\n",
       "      <th>nr_votavel</th>\n",
       "      <th>nm_votavel</th>\n",
       "      <th>qt_votos</th>\n",
       "      <th>nr_urna_efetivada</th>\n",
       "    </tr>\n",
       "  </thead>\n",
       "  <tbody>\n",
       "    <tr>\n",
       "      <th>2851460</th>\n",
       "      <td>TERRA ROXA</td>\n",
       "      <td>178</td>\n",
       "      <td>69</td>\n",
       "      <td>1015</td>\n",
       "      <td>Vereador</td>\n",
       "      <td>PODE</td>\n",
       "      <td>383</td>\n",
       "      <td>351</td>\n",
       "      <td>32</td>\n",
       "      <td>Nominal</td>\n",
       "      <td>19555</td>\n",
       "      <td>NaN</td>\n",
       "      <td>3</td>\n",
       "      <td>1806368</td>\n",
       "    </tr>\n",
       "    <tr>\n",
       "      <th>2851506</th>\n",
       "      <td>TERRA ROXA</td>\n",
       "      <td>178</td>\n",
       "      <td>70</td>\n",
       "      <td>1015</td>\n",
       "      <td>Vereador</td>\n",
       "      <td>PODE</td>\n",
       "      <td>383</td>\n",
       "      <td>342</td>\n",
       "      <td>41</td>\n",
       "      <td>Nominal</td>\n",
       "      <td>19555</td>\n",
       "      <td>NaN</td>\n",
       "      <td>2</td>\n",
       "      <td>1806010</td>\n",
       "    </tr>\n",
       "    <tr>\n",
       "      <th>2851594</th>\n",
       "      <td>TERRA ROXA</td>\n",
       "      <td>178</td>\n",
       "      <td>71</td>\n",
       "      <td>1015</td>\n",
       "      <td>Vereador</td>\n",
       "      <td>PODE</td>\n",
       "      <td>384</td>\n",
       "      <td>317</td>\n",
       "      <td>67</td>\n",
       "      <td>Nominal</td>\n",
       "      <td>19555</td>\n",
       "      <td>NaN</td>\n",
       "      <td>5</td>\n",
       "      <td>1794759</td>\n",
       "    </tr>\n",
       "    <tr>\n",
       "      <th>2851696</th>\n",
       "      <td>TERRA ROXA</td>\n",
       "      <td>178</td>\n",
       "      <td>73</td>\n",
       "      <td>1015</td>\n",
       "      <td>Vereador</td>\n",
       "      <td>PODE</td>\n",
       "      <td>384</td>\n",
       "      <td>334</td>\n",
       "      <td>50</td>\n",
       "      <td>Nominal</td>\n",
       "      <td>19555</td>\n",
       "      <td>NaN</td>\n",
       "      <td>1</td>\n",
       "      <td>1796641</td>\n",
       "    </tr>\n",
       "    <tr>\n",
       "      <th>2851765</th>\n",
       "      <td>TERRA ROXA</td>\n",
       "      <td>178</td>\n",
       "      <td>74</td>\n",
       "      <td>1015</td>\n",
       "      <td>Vereador</td>\n",
       "      <td>PODE</td>\n",
       "      <td>383</td>\n",
       "      <td>318</td>\n",
       "      <td>65</td>\n",
       "      <td>Nominal</td>\n",
       "      <td>19555</td>\n",
       "      <td>NaN</td>\n",
       "      <td>3</td>\n",
       "      <td>1796587</td>\n",
       "    </tr>\n",
       "    <tr>\n",
       "      <th>2851874</th>\n",
       "      <td>TERRA ROXA</td>\n",
       "      <td>178</td>\n",
       "      <td>79</td>\n",
       "      <td>1023</td>\n",
       "      <td>Vereador</td>\n",
       "      <td>PODE</td>\n",
       "      <td>390</td>\n",
       "      <td>362</td>\n",
       "      <td>28</td>\n",
       "      <td>Nominal</td>\n",
       "      <td>19555</td>\n",
       "      <td>NaN</td>\n",
       "      <td>1</td>\n",
       "      <td>1803375</td>\n",
       "    </tr>\n",
       "    <tr>\n",
       "      <th>2851937</th>\n",
       "      <td>TERRA ROXA</td>\n",
       "      <td>178</td>\n",
       "      <td>80</td>\n",
       "      <td>1023</td>\n",
       "      <td>Vereador</td>\n",
       "      <td>PODE</td>\n",
       "      <td>389</td>\n",
       "      <td>343</td>\n",
       "      <td>46</td>\n",
       "      <td>Nominal</td>\n",
       "      <td>19555</td>\n",
       "      <td>NaN</td>\n",
       "      <td>1</td>\n",
       "      <td>1803397</td>\n",
       "    </tr>\n",
       "    <tr>\n",
       "      <th>2851986</th>\n",
       "      <td>TERRA ROXA</td>\n",
       "      <td>178</td>\n",
       "      <td>81</td>\n",
       "      <td>1023</td>\n",
       "      <td>Vereador</td>\n",
       "      <td>PODE</td>\n",
       "      <td>390</td>\n",
       "      <td>355</td>\n",
       "      <td>35</td>\n",
       "      <td>Nominal</td>\n",
       "      <td>19555</td>\n",
       "      <td>NaN</td>\n",
       "      <td>1</td>\n",
       "      <td>1803399</td>\n",
       "    </tr>\n",
       "    <tr>\n",
       "      <th>2852012</th>\n",
       "      <td>TERRA ROXA</td>\n",
       "      <td>178</td>\n",
       "      <td>82</td>\n",
       "      <td>1023</td>\n",
       "      <td>Vereador</td>\n",
       "      <td>PODE</td>\n",
       "      <td>389</td>\n",
       "      <td>352</td>\n",
       "      <td>37</td>\n",
       "      <td>Nominal</td>\n",
       "      <td>19555</td>\n",
       "      <td>NaN</td>\n",
       "      <td>3</td>\n",
       "      <td>1796921</td>\n",
       "    </tr>\n",
       "    <tr>\n",
       "      <th>2852147</th>\n",
       "      <td>TERRA ROXA</td>\n",
       "      <td>178</td>\n",
       "      <td>84</td>\n",
       "      <td>1040</td>\n",
       "      <td>Vereador</td>\n",
       "      <td>PODE</td>\n",
       "      <td>305</td>\n",
       "      <td>258</td>\n",
       "      <td>47</td>\n",
       "      <td>Nominal</td>\n",
       "      <td>19555</td>\n",
       "      <td>NaN</td>\n",
       "      <td>2</td>\n",
       "      <td>1802699</td>\n",
       "    </tr>\n",
       "    <tr>\n",
       "      <th>2852222</th>\n",
       "      <td>TERRA ROXA</td>\n",
       "      <td>178</td>\n",
       "      <td>85</td>\n",
       "      <td>1040</td>\n",
       "      <td>Vereador</td>\n",
       "      <td>PODE</td>\n",
       "      <td>319</td>\n",
       "      <td>278</td>\n",
       "      <td>41</td>\n",
       "      <td>Nominal</td>\n",
       "      <td>19555</td>\n",
       "      <td>NaN</td>\n",
       "      <td>2</td>\n",
       "      <td>1804492</td>\n",
       "    </tr>\n",
       "    <tr>\n",
       "      <th>2852252</th>\n",
       "      <td>TERRA ROXA</td>\n",
       "      <td>178</td>\n",
       "      <td>86</td>\n",
       "      <td>1040</td>\n",
       "      <td>Vereador</td>\n",
       "      <td>PODE</td>\n",
       "      <td>311</td>\n",
       "      <td>257</td>\n",
       "      <td>54</td>\n",
       "      <td>Nominal</td>\n",
       "      <td>19555</td>\n",
       "      <td>NaN</td>\n",
       "      <td>1</td>\n",
       "      <td>1806087</td>\n",
       "    </tr>\n",
       "    <tr>\n",
       "      <th>2852300</th>\n",
       "      <td>TERRA ROXA</td>\n",
       "      <td>178</td>\n",
       "      <td>87</td>\n",
       "      <td>1040</td>\n",
       "      <td>Vereador</td>\n",
       "      <td>PODE</td>\n",
       "      <td>318</td>\n",
       "      <td>273</td>\n",
       "      <td>45</td>\n",
       "      <td>Nominal</td>\n",
       "      <td>19555</td>\n",
       "      <td>NaN</td>\n",
       "      <td>3</td>\n",
       "      <td>1806123</td>\n",
       "    </tr>\n",
       "  </tbody>\n",
       "</table>\n",
       "</div>"
      ],
      "text/plain": [
       "        nm_municipio  nr_zona  nr_secao  nr_local_votacao ds_cargo_pergunta sg_partido  qt_aptos  qt_comparecimento  qt_abstencoes ds_tipo_votavel  nr_votavel nm_votavel  qt_votos  nr_urna_efetivada\n",
       "2851460   TERRA ROXA      178        69              1015          Vereador       PODE       383                351             32         Nominal       19555        NaN         3            1806368\n",
       "2851506   TERRA ROXA      178        70              1015          Vereador       PODE       383                342             41         Nominal       19555        NaN         2            1806010\n",
       "2851594   TERRA ROXA      178        71              1015          Vereador       PODE       384                317             67         Nominal       19555        NaN         5            1794759\n",
       "2851696   TERRA ROXA      178        73              1015          Vereador       PODE       384                334             50         Nominal       19555        NaN         1            1796641\n",
       "2851765   TERRA ROXA      178        74              1015          Vereador       PODE       383                318             65         Nominal       19555        NaN         3            1796587\n",
       "2851874   TERRA ROXA      178        79              1023          Vereador       PODE       390                362             28         Nominal       19555        NaN         1            1803375\n",
       "2851937   TERRA ROXA      178        80              1023          Vereador       PODE       389                343             46         Nominal       19555        NaN         1            1803397\n",
       "2851986   TERRA ROXA      178        81              1023          Vereador       PODE       390                355             35         Nominal       19555        NaN         1            1803399\n",
       "2852012   TERRA ROXA      178        82              1023          Vereador       PODE       389                352             37         Nominal       19555        NaN         3            1796921\n",
       "2852147   TERRA ROXA      178        84              1040          Vereador       PODE       305                258             47         Nominal       19555        NaN         2            1802699\n",
       "2852222   TERRA ROXA      178        85              1040          Vereador       PODE       319                278             41         Nominal       19555        NaN         2            1804492\n",
       "2852252   TERRA ROXA      178        86              1040          Vereador       PODE       311                257             54         Nominal       19555        NaN         1            1806087\n",
       "2852300   TERRA ROXA      178        87              1040          Vereador       PODE       318                273             45         Nominal       19555        NaN         3            1806123"
      ]
     },
     "execution_count": 25,
     "metadata": {},
     "output_type": "execute_result"
    }
   ],
   "source": [
    "# Análise das linhas contendo NaN (13)\n",
    "df_results[df_results['nm_votavel'].isna()]"
   ]
  },
  {
   "cell_type": "markdown",
   "id": "28004564-941c-43d8-8a8a-3fcff0da3049",
   "metadata": {},
   "source": [
    "Atenção:\n",
    "\n",
    "- Visando uma possível substituição dos valores NaN, as 13 linhas que contém NaN na coluna 'nm_votavel' correspondem ao número 19555 na coluna 'nr_votavel', porém é preciso checar.\n",
    "- Se não for o caso, a remoção das linhas nulas é válida."
   ]
  },
  {
   "cell_type": "code",
   "execution_count": 26,
   "id": "beb57c6a-fd4e-421e-9193-a19b9ba3d20f",
   "metadata": {},
   "outputs": [
    {
     "data": {
      "text/plain": [
       "array(['CAL', 'RONALDO GUIMARÃES', 'MARIA DO CARMO', 'ZE BOTINHA',\n",
       "       'CICERA DO SANTA CRISTINA', 'NEI FERRACIOLI', 'ADRIANA GUIA',\n",
       "       'GLEICA', 'JORDAN ONOFRE', 'DINHO FORÃO', 'GUINA',\n",
       "       'ADEMIR DA ROCHA (PIPI)', 'ÁLISON THEODORO', 'DU TAPEÇEIRO',\n",
       "       'TEREZINHA RIBEIRO', 'TUSTÃO', 'PROFESSOR ROMUALDO',\n",
       "       'VALDECI DO TURVO', 'NATAN POSSIGNOLLO', 'WILSON PEREIRA',\n",
       "       'MAURINHO DO PASSA VINTE', 'XANDÃO', 'SIDNEY CORRETOR',\n",
       "       'ELAINE SEVERINO', 'AMAURI DA MÚSICA', 'ODAIR MOTA',\n",
       "       'MÍLTON CREMASCO', 'CARLOS MARCHESINI', 'JULIA AGOSTINI',\n",
       "       'RALF VILAS BOAS', 'CARLINHOS QUINELLO', 'IZILDA COSTA',\n",
       "       'GILSON BULGARELLI', 'ELIANA BORGES', 'MIRIAM VIEIRA',\n",
       "       'ELTON CARVALHO', 'HELINHO FISCAL DOS ONIBUS', 'LUIZINHO GOMES',\n",
       "       'PAULO IEIO', 'MAIRA CONTE', 'EUCLIDES MORAES', 'ZÉ DAS PEDRAS',\n",
       "       'NATAL', 'MAX DEFINE', 'REGINA BEZERRA', 'JOÃO DO SACOLÃO',\n",
       "       'LIVIA SPINA', 'MARISA FERNANDES', 'EDINELSON BUENO',\n",
       "       'ADRIANA FACCINA', 'PASTORA RITA', 'REGINA RHODRIGUES CHEF',\n",
       "       'EDSON SILVA', 'RAFAEL ZAN', 'ZÉ DA TILA', 'GLEISSY MAITAN',\n",
       "       'LUCILENE COLHADO', 'MARIA ROSA', 'VALFRAN JUNTOS POR SANTOS',\n",
       "       'MARCO CARVALHO', 'VAGNER SIMIONI', 'THIAGO FURLAN',\n",
       "       'GIBA ALADDIN', 'MATHEUS MEDEIROS', 'EVA TENORIO', 'GE',\n",
       "       'COUTINHO', 'TENÓRIO', 'CIDA KOSTA', 'ANDRÉ ROCHA', 'DR RICARDO',\n",
       "       'PROFESSOR MÁRCIO PRETTE', 'DINALVA SANITÁ', 'ODAIR LOPES',\n",
       "       'RAFAELA MARÇAL', 'MARCIA VEREADORA', 'JOSÉ COURO COME',\n",
       "       'GIOVANA GALINDO', 'VIVIANE CAVICHIOLI', 'LOURIVAL SALES',\n",
       "       'TIAGO TAVICO', 'TELO', 'DUCI CLUB', 'RICARDO BUENO DARASSO',\n",
       "       'JEFFERSON CEZAROLLI', 'CAERINHA', nan, 'MIQUÉIAS RODRIGUES',\n",
       "       'KEYLA KENE DENTISTA', 'AELSON ROCHA', 'SUELI BRITO',\n",
       "       'NATALINO TALIO', 'ELISANGELA RANGERIO', 'ANDREIA RIBEIRO',\n",
       "       'BRUNA BILLAFON', 'MARCULIU BATERIAS', 'ZEK FERREIRA DE LIMA',\n",
       "       'MATEUS DA FARMÁCIA', 'TAISSA SILVA', 'GEAN POLICARPO',\n",
       "       'CELENE SAUDINO', 'TIÃO DA VILA', 'CARMÔNIO BASTOS',\n",
       "       'WALTER JUNINHO', 'BUIU DA VILA RIBEIRO', 'OSMAR', 'AGEU LOBO',\n",
       "       'BETINHA BERANGER', 'DARCI HONORATO', 'MESTRE WANDERLEY',\n",
       "       'DAYA QUEIRÓZ', 'NANI DO SALGADO', 'IZAURA TRISTÃO',\n",
       "       'CABO GIVALDO', 'FECO', 'JOÃO MOREIRA', 'JOSE CARLOS FISCAL',\n",
       "       'MICHEL DAMIANI', 'SEVERINO', 'HELIMAR', 'POLEZEL',\n",
       "       'CLAUDIO BARRIGA', 'BURCA', 'JUNIM DO MERCADO', 'PASTOR RENATO',\n",
       "       'CHICO SPART', 'PROFESSOR MAURICIO', 'ZÉ DITO', 'MICHELI ZANOTTI',\n",
       "       'DAVI DE MORAES', 'DEBORAH', 'CLAUDIO MEDEIROS BIÁ',\n",
       "       'MAURO DA FARMACIA', 'WAGNER OHONISHI', 'DR JÚNIOR',\n",
       "       'LUCAS ZONZINI', 'UILSON GATO', 'GETULIO DA FARMÁCIA',\n",
       "       'RAFAEL CAVALLINI', 'NEGUINHO DO ÔNIBUS', 'MARA BARBOSA',\n",
       "       'JÉSSICA CARVALHO', 'EDVANIA GUERRA', 'SILVÃO DA EDUCAÇÃO',\n",
       "       'HUGO PAIVA', 'PROFESSORA ISABEL', 'JOÃO DA RETRO',\n",
       "       'EDSON VANDER BALANÇA FERRAZ'], dtype=object)"
      ]
     },
     "execution_count": 26,
     "metadata": {},
     "output_type": "execute_result"
    }
   ],
   "source": [
    "# Checagem \n",
    "df_results['nm_votavel'][df_results['nr_votavel'] == 19555].unique()"
   ]
  },
  {
   "cell_type": "markdown",
   "id": "78b1baa5-6d12-4f71-ac09-6cd56b5e9156",
   "metadata": {},
   "source": [
    "Consoante o PDF 'leiame.pdf' enviado, é possível existir campos preenchidos com:\n",
    "- '#NULO'\n",
    "- '#NE'\n",
    "- '#NULO#'"
   ]
  },
  {
   "cell_type": "code",
   "execution_count": 27,
   "id": "25d98296-a4be-4735-870a-9a79485f7f68",
   "metadata": {},
   "outputs": [
    {
     "name": "stdout",
     "output_type": "stream",
     "text": [
      "Total de ocorrências de '#NULO#': 342562\n"
     ]
    }
   ],
   "source": [
    "contador_nulos_1 = (df_results == '#NULO#').sum().sum()\n",
    "print(f\"Total de ocorrências de '#NULO#': {contador_nulos_1}\")"
   ]
  },
  {
   "cell_type": "code",
   "execution_count": 28,
   "id": "e62c1f46-ce7a-4d81-8813-9780340e83c0",
   "metadata": {},
   "outputs": [
    {
     "name": "stderr",
     "output_type": "stream",
     "text": [
      "/var/folders/wt/4bhdq9gj4vnbrm086fldm7z80000gn/T/ipykernel_8268/819437429.py:4: FutureWarning: elementwise comparison failed; returning scalar instead, but in the future will perform elementwise comparison\n",
      "  if '#NULO#' in df_results[column].values:\n"
     ]
    },
    {
     "name": "stdout",
     "output_type": "stream",
     "text": [
      "Colunas com valores '#NULO#': ['sg_partido']\n"
     ]
    }
   ],
   "source": [
    "# Diagnóstico da(s) coluna(s) que possui(em) '#NULO#'\n",
    "columns_with_nulo = []\n",
    "for column in df_results.columns:\n",
    "    if '#NULO#' in df_results[column].values:\n",
    "        columns_with_nulo.append(column)\n",
    "\n",
    "print(\"Colunas com valores '#NULO#':\", columns_with_nulo)"
   ]
  },
  {
   "cell_type": "code",
   "execution_count": 29,
   "id": "a0180526-994d-4815-90bb-7d71b79d2c11",
   "metadata": {},
   "outputs": [
    {
     "name": "stdout",
     "output_type": "stream",
     "text": [
      "Total de ocorrências de '#NULO': 0\n"
     ]
    }
   ],
   "source": [
    "contador_nulos_2 = (df_results == '#NULO').sum().sum()\n",
    "print(f\"Total de ocorrências de '#NULO': {contador_nulos_2}\")"
   ]
  },
  {
   "cell_type": "code",
   "execution_count": 30,
   "id": "da4049c4-e0b6-4d7e-ba69-db1d5d422dcd",
   "metadata": {},
   "outputs": [
    {
     "name": "stdout",
     "output_type": "stream",
     "text": [
      "Total de ocorrências de '#NE': 0\n"
     ]
    }
   ],
   "source": [
    "contador_nulos_ne = (df_results == '#NE').sum().sum()\n",
    "print(f\"Total de ocorrências de '#NE': {contador_nulos_ne}\")"
   ]
  },
  {
   "cell_type": "markdown",
   "id": "1a86054e-b745-4e50-93c8-cd2d77d8aa01",
   "metadata": {},
   "source": [
    "Existem valores '#NULO#' apenas na coluna 'sg_partido', ou seja, não há registro da sigla do partido em certas linhas do conjunto de dados. Isso pode significar que:\n",
    "- Erro no registro de dados no banco.\n",
    "- Não há registro da sigla do partido devido ao tipo de voto, como o voto branco."
   ]
  },
  {
   "cell_type": "code",
   "execution_count": 31,
   "id": "8b9dcecc-4a84-424a-b719-31acf499efa3",
   "metadata": {},
   "outputs": [
    {
     "data": {
      "text/plain": [
       "array(['Branco'], dtype=object)"
      ]
     },
     "execution_count": 31,
     "metadata": {},
     "output_type": "execute_result"
    }
   ],
   "source": [
    "# Análise e checagem se os valores '#NULO#' correspondem ao voto Branco\n",
    "df_results[['sg_partido', 'ds_tipo_votavel']].loc[df_results['ds_tipo_votavel'] == 'Branco', 'ds_tipo_votavel'].unique()"
   ]
  },
  {
   "cell_type": "markdown",
   "id": "c8899b58-3be7-4294-add8-628f3bd3e9c9",
   "metadata": {},
   "source": [
    "## 1.6 Fillout NA"
   ]
  },
  {
   "cell_type": "markdown",
   "id": "7f93f3b8-d1e1-4dd7-9c89-86093f4ba923",
   "metadata": {},
   "source": [
    "Profiles Database: \n",
    "\n",
    "- Não há dados nulos\n",
    "\n",
    "Results Database:\n",
    "\n",
    "- 13 linhas na coluna 'nm_votavel' como NaN\n",
    "- Valores '#NULO#' na coluna 'sg_partido' que representam o voto nulo"
   ]
  },
  {
   "cell_type": "code",
   "execution_count": null,
   "id": "146a6954-7aa3-4cff-85b2-a46d8f0f8fbf",
   "metadata": {},
   "outputs": [],
   "source": [
    "# Profiles Database\n",
    "\n",
    "\n",
    "# Results Database\n",
    "df_results.dropna(subset=['nm_votavel'])"
   ]
  },
  {
   "cell_type": "markdown",
   "id": "8b80a75c-7949-46c4-898c-6428ed89ec40",
   "metadata": {},
   "source": [
    "## 1.7 Final Check"
   ]
  },
  {
   "cell_type": "code",
   "execution_count": null,
   "id": "435609f8-e530-4817-ac3f-fb49ef45e25d",
   "metadata": {},
   "outputs": [],
   "source": [
    "df_profiles.isna().sum()"
   ]
  },
  {
   "cell_type": "code",
   "execution_count": null,
   "id": "77465618-7bda-4050-ba7f-884b21734f4a",
   "metadata": {},
   "outputs": [],
   "source": [
    "df_results.isna().sum()"
   ]
  },
  {
   "cell_type": "markdown",
   "id": "055a014f-c903-427f-918a-4b48d7dc44f0",
   "metadata": {},
   "source": [
    "## 1.8 Change Dtypes"
   ]
  },
  {
   "cell_type": "markdown",
   "id": "697a7b7e-be2f-486c-9084-86b0170b70d5",
   "metadata": {},
   "source": [
    "Não há necessidade de transformar a tipologia dos dados em ambos os datasets."
   ]
  },
  {
   "cell_type": "code",
   "execution_count": 32,
   "id": "2f10b17e-51b2-4c97-8b9c-d222799244e0",
   "metadata": {},
   "outputs": [
    {
     "data": {
      "text/plain": [
       "sg_uf                         object\n",
       "nm_municipio                  object\n",
       "nr_zona                        int64\n",
       "ds_genero                     object\n",
       "ds_estado_civil               object\n",
       "ds_faixa_etaria               object\n",
       "ds_grau_escolaridade          object\n",
       "qt_eleitores_perfil            int64\n",
       "qt_eleitores_biometria         int64\n",
       "qt_eleitores_deficiencia       int64\n",
       "qt_eleitores_inc_nm_social     int64\n",
       "dtype: object"
      ]
     },
     "execution_count": 32,
     "metadata": {},
     "output_type": "execute_result"
    }
   ],
   "source": [
    "df_profiles.dtypes"
   ]
  },
  {
   "cell_type": "code",
   "execution_count": 33,
   "id": "db2d1067-96f3-4f07-92bc-8ee57bd00b73",
   "metadata": {},
   "outputs": [
    {
     "data": {
      "text/plain": [
       "nm_municipio         object\n",
       "nr_zona               int64\n",
       "nr_secao              int64\n",
       "nr_local_votacao      int64\n",
       "ds_cargo_pergunta    object\n",
       "sg_partido           object\n",
       "qt_aptos              int64\n",
       "qt_comparecimento     int64\n",
       "qt_abstencoes         int64\n",
       "ds_tipo_votavel      object\n",
       "nr_votavel            int64\n",
       "nm_votavel           object\n",
       "qt_votos              int64\n",
       "nr_urna_efetivada     int64\n",
       "dtype: object"
      ]
     },
     "execution_count": 33,
     "metadata": {},
     "output_type": "execute_result"
    }
   ],
   "source": [
    "df_results.dtypes"
   ]
  },
  {
   "cell_type": "markdown",
   "id": "4e920d3a-2492-45d1-88ce-ccd0df8bf7bc",
   "metadata": {},
   "source": [
    "## 1.9 Line Filtering"
   ]
  },
  {
   "cell_type": "code",
   "execution_count": 35,
   "id": "e1930a40-d582-479e-b04d-6fc77b43d825",
   "metadata": {},
   "outputs": [],
   "source": [
    "df_profiles = df_profiles[df_profiles['sg_uf'] == 'SP']"
   ]
  },
  {
   "cell_type": "code",
   "execution_count": 36,
   "id": "24578939-f3ef-41aa-bfda-1eae1602fc4b",
   "metadata": {},
   "outputs": [
    {
     "data": {
      "text/html": [
       "<div>\n",
       "<style scoped>\n",
       "    .dataframe tbody tr th:only-of-type {\n",
       "        vertical-align: middle;\n",
       "    }\n",
       "\n",
       "    .dataframe tbody tr th {\n",
       "        vertical-align: top;\n",
       "    }\n",
       "\n",
       "    .dataframe thead th {\n",
       "        text-align: right;\n",
       "    }\n",
       "</style>\n",
       "<table border=\"1\" class=\"dataframe\">\n",
       "  <thead>\n",
       "    <tr style=\"text-align: right;\">\n",
       "      <th></th>\n",
       "      <th>sg_uf</th>\n",
       "      <th>nm_municipio</th>\n",
       "      <th>nr_zona</th>\n",
       "      <th>ds_genero</th>\n",
       "      <th>ds_estado_civil</th>\n",
       "      <th>ds_faixa_etaria</th>\n",
       "      <th>ds_grau_escolaridade</th>\n",
       "      <th>qt_eleitores_perfil</th>\n",
       "      <th>qt_eleitores_biometria</th>\n",
       "      <th>qt_eleitores_deficiencia</th>\n",
       "      <th>qt_eleitores_inc_nm_social</th>\n",
       "    </tr>\n",
       "  </thead>\n",
       "  <tbody>\n",
       "    <tr>\n",
       "      <th>0</th>\n",
       "      <td>SP</td>\n",
       "      <td>SÃO BENTO DO SAPUCAÍ</td>\n",
       "      <td>314</td>\n",
       "      <td>FEMININO</td>\n",
       "      <td>CASADO</td>\n",
       "      <td>70 a 74 anos</td>\n",
       "      <td>ENSINO FUNDAMENTAL INCOMPLETO</td>\n",
       "      <td>47</td>\n",
       "      <td>37</td>\n",
       "      <td>1</td>\n",
       "      <td>0</td>\n",
       "    </tr>\n",
       "    <tr>\n",
       "      <th>1</th>\n",
       "      <td>SP</td>\n",
       "      <td>SÃO BENTO DO SAPUCAÍ</td>\n",
       "      <td>314</td>\n",
       "      <td>FEMININO</td>\n",
       "      <td>CASADO</td>\n",
       "      <td>70 a 74 anos</td>\n",
       "      <td>ENSINO FUNDAMENTAL COMPLETO</td>\n",
       "      <td>5</td>\n",
       "      <td>4</td>\n",
       "      <td>0</td>\n",
       "      <td>0</td>\n",
       "    </tr>\n",
       "    <tr>\n",
       "      <th>2</th>\n",
       "      <td>SP</td>\n",
       "      <td>SÃO BENTO DO SAPUCAÍ</td>\n",
       "      <td>314</td>\n",
       "      <td>FEMININO</td>\n",
       "      <td>CASADO</td>\n",
       "      <td>70 a 74 anos</td>\n",
       "      <td>ENSINO MÉDIO INCOMPLETO</td>\n",
       "      <td>1</td>\n",
       "      <td>1</td>\n",
       "      <td>0</td>\n",
       "      <td>0</td>\n",
       "    </tr>\n",
       "    <tr>\n",
       "      <th>3</th>\n",
       "      <td>SP</td>\n",
       "      <td>SÃO BENTO DO SAPUCAÍ</td>\n",
       "      <td>314</td>\n",
       "      <td>FEMININO</td>\n",
       "      <td>CASADO</td>\n",
       "      <td>70 a 74 anos</td>\n",
       "      <td>ENSINO MÉDIO COMPLETO</td>\n",
       "      <td>10</td>\n",
       "      <td>8</td>\n",
       "      <td>0</td>\n",
       "      <td>0</td>\n",
       "    </tr>\n",
       "    <tr>\n",
       "      <th>4</th>\n",
       "      <td>SP</td>\n",
       "      <td>SÃO BENTO DO SAPUCAÍ</td>\n",
       "      <td>314</td>\n",
       "      <td>FEMININO</td>\n",
       "      <td>CASADO</td>\n",
       "      <td>70 a 74 anos</td>\n",
       "      <td>SUPERIOR COMPLETO</td>\n",
       "      <td>23</td>\n",
       "      <td>18</td>\n",
       "      <td>0</td>\n",
       "      <td>0</td>\n",
       "    </tr>\n",
       "  </tbody>\n",
       "</table>\n",
       "</div>"
      ],
      "text/plain": [
       "  sg_uf          nm_municipio  nr_zona ds_genero ds_estado_civil                 ds_faixa_etaria           ds_grau_escolaridade  qt_eleitores_perfil  qt_eleitores_biometria  qt_eleitores_deficiencia  qt_eleitores_inc_nm_social\n",
       "0    SP  SÃO BENTO DO SAPUCAÍ      314  FEMININO          CASADO  70 a 74 anos                    ENSINO FUNDAMENTAL INCOMPLETO                   47                      37                         1                           0\n",
       "1    SP  SÃO BENTO DO SAPUCAÍ      314  FEMININO          CASADO  70 a 74 anos                      ENSINO FUNDAMENTAL COMPLETO                    5                       4                         0                           0\n",
       "2    SP  SÃO BENTO DO SAPUCAÍ      314  FEMININO          CASADO  70 a 74 anos                          ENSINO MÉDIO INCOMPLETO                    1                       1                         0                           0\n",
       "3    SP  SÃO BENTO DO SAPUCAÍ      314  FEMININO          CASADO  70 a 74 anos                            ENSINO MÉDIO COMPLETO                   10                       8                         0                           0\n",
       "4    SP  SÃO BENTO DO SAPUCAÍ      314  FEMININO          CASADO  70 a 74 anos                                SUPERIOR COMPLETO                   23                      18                         0                           0"
      ]
     },
     "execution_count": 36,
     "metadata": {},
     "output_type": "execute_result"
    }
   ],
   "source": [
    "df_profiles.head()"
   ]
  },
  {
   "cell_type": "code",
   "execution_count": 37,
   "id": "021055ea-f8fc-4ad3-b1ba-2b3f4175f8bb",
   "metadata": {},
   "outputs": [
    {
     "data": {
      "text/plain": [
       "427"
      ]
     },
     "execution_count": 37,
     "metadata": {},
     "output_type": "execute_result"
    }
   ],
   "source": [
    "#df_profiles['sg_uf'].unique()\n",
    "#df_profiles.shape[0]\n",
    "df_results['nr_zona'].max()"
   ]
  },
  {
   "cell_type": "code",
   "execution_count": 38,
   "id": "d421186f-9b22-4ac2-8cfe-df469c263ec8",
   "metadata": {},
   "outputs": [
    {
     "data": {
      "text/html": [
       "<div>\n",
       "<style scoped>\n",
       "    .dataframe tbody tr th:only-of-type {\n",
       "        vertical-align: middle;\n",
       "    }\n",
       "\n",
       "    .dataframe tbody tr th {\n",
       "        vertical-align: top;\n",
       "    }\n",
       "\n",
       "    .dataframe thead th {\n",
       "        text-align: right;\n",
       "    }\n",
       "</style>\n",
       "<table border=\"1\" class=\"dataframe\">\n",
       "  <thead>\n",
       "    <tr style=\"text-align: right;\">\n",
       "      <th></th>\n",
       "      <th>nm_municipio</th>\n",
       "      <th>nr_zona</th>\n",
       "      <th>nr_secao</th>\n",
       "      <th>nr_local_votacao</th>\n",
       "      <th>ds_cargo_pergunta</th>\n",
       "      <th>sg_partido</th>\n",
       "      <th>qt_aptos</th>\n",
       "      <th>qt_comparecimento</th>\n",
       "      <th>qt_abstencoes</th>\n",
       "      <th>ds_tipo_votavel</th>\n",
       "      <th>nr_votavel</th>\n",
       "      <th>nm_votavel</th>\n",
       "      <th>qt_votos</th>\n",
       "      <th>nr_urna_efetivada</th>\n",
       "    </tr>\n",
       "  </thead>\n",
       "  <tbody>\n",
       "    <tr>\n",
       "      <th>0</th>\n",
       "      <td>SÃO PAULO</td>\n",
       "      <td>1</td>\n",
       "      <td>1</td>\n",
       "      <td>1015</td>\n",
       "      <td>Prefeito</td>\n",
       "      <td>#NULO#</td>\n",
       "      <td>386</td>\n",
       "      <td>241</td>\n",
       "      <td>145</td>\n",
       "      <td>Branco</td>\n",
       "      <td>95</td>\n",
       "      <td>Branco</td>\n",
       "      <td>5</td>\n",
       "      <td>1618073</td>\n",
       "    </tr>\n",
       "    <tr>\n",
       "      <th>1</th>\n",
       "      <td>SÃO PAULO</td>\n",
       "      <td>1</td>\n",
       "      <td>1</td>\n",
       "      <td>1015</td>\n",
       "      <td>Prefeito</td>\n",
       "      <td>PT</td>\n",
       "      <td>386</td>\n",
       "      <td>241</td>\n",
       "      <td>145</td>\n",
       "      <td>Nominal</td>\n",
       "      <td>13</td>\n",
       "      <td>JILMAR TATTO</td>\n",
       "      <td>4</td>\n",
       "      <td>1618073</td>\n",
       "    </tr>\n",
       "    <tr>\n",
       "      <th>2</th>\n",
       "      <td>SÃO PAULO</td>\n",
       "      <td>1</td>\n",
       "      <td>1</td>\n",
       "      <td>1015</td>\n",
       "      <td>Prefeito</td>\n",
       "      <td>REDE</td>\n",
       "      <td>386</td>\n",
       "      <td>241</td>\n",
       "      <td>145</td>\n",
       "      <td>Nominal</td>\n",
       "      <td>18</td>\n",
       "      <td>MARINA HELOU</td>\n",
       "      <td>1</td>\n",
       "      <td>1618073</td>\n",
       "    </tr>\n",
       "    <tr>\n",
       "      <th>3</th>\n",
       "      <td>SÃO PAULO</td>\n",
       "      <td>1</td>\n",
       "      <td>1</td>\n",
       "      <td>1015</td>\n",
       "      <td>Prefeito</td>\n",
       "      <td>PSB</td>\n",
       "      <td>386</td>\n",
       "      <td>241</td>\n",
       "      <td>145</td>\n",
       "      <td>Nominal</td>\n",
       "      <td>40</td>\n",
       "      <td>MÁRCIO FRANÇA</td>\n",
       "      <td>29</td>\n",
       "      <td>1618073</td>\n",
       "    </tr>\n",
       "    <tr>\n",
       "      <th>4</th>\n",
       "      <td>SÃO PAULO</td>\n",
       "      <td>1</td>\n",
       "      <td>1</td>\n",
       "      <td>1015</td>\n",
       "      <td>Prefeito</td>\n",
       "      <td>PSDB</td>\n",
       "      <td>386</td>\n",
       "      <td>241</td>\n",
       "      <td>145</td>\n",
       "      <td>Nominal</td>\n",
       "      <td>45</td>\n",
       "      <td>BRUNO COVAS</td>\n",
       "      <td>111</td>\n",
       "      <td>1618073</td>\n",
       "    </tr>\n",
       "  </tbody>\n",
       "</table>\n",
       "</div>"
      ],
      "text/plain": [
       "  nm_municipio  nr_zona  nr_secao  nr_local_votacao ds_cargo_pergunta sg_partido  qt_aptos  qt_comparecimento  qt_abstencoes ds_tipo_votavel  nr_votavel     nm_votavel  qt_votos  nr_urna_efetivada\n",
       "0    SÃO PAULO        1         1              1015          Prefeito     #NULO#       386                241            145          Branco          95         Branco         5            1618073\n",
       "1    SÃO PAULO        1         1              1015          Prefeito         PT       386                241            145         Nominal          13   JILMAR TATTO         4            1618073\n",
       "2    SÃO PAULO        1         1              1015          Prefeito       REDE       386                241            145         Nominal          18   MARINA HELOU         1            1618073\n",
       "3    SÃO PAULO        1         1              1015          Prefeito        PSB       386                241            145         Nominal          40  MÁRCIO FRANÇA        29            1618073\n",
       "4    SÃO PAULO        1         1              1015          Prefeito       PSDB       386                241            145         Nominal          45    BRUNO COVAS       111            1618073"
      ]
     },
     "execution_count": 38,
     "metadata": {},
     "output_type": "execute_result"
    }
   ],
   "source": [
    "df_results.head()"
   ]
  },
  {
   "cell_type": "code",
   "execution_count": 39,
   "id": "ef811239-e80e-4a63-a08f-3521717ea1a0",
   "metadata": {},
   "outputs": [
    {
     "data": {
      "text/plain": [
       "645"
      ]
     },
     "execution_count": 39,
     "metadata": {},
     "output_type": "execute_result"
    }
   ],
   "source": [
    "df_results['nm_municipio'].unique().shape[0]"
   ]
  },
  {
   "cell_type": "markdown",
   "id": "3095d6fd-8ec9-477d-bbc4-edaea683b085",
   "metadata": {},
   "source": [
    "# 2.0 Join tables"
   ]
  },
  {
   "cell_type": "code",
   "execution_count": null,
   "id": "0047106c-e386-4632-b694-58d53c648708",
   "metadata": {},
   "outputs": [],
   "source": [
    "# merge\n",
    "df_joined = pd.merge(df_profiles, df_results, on='nr_zona')"
   ]
  },
  {
   "cell_type": "code",
   "execution_count": null,
   "id": "fc314a3f-d057-47d2-92e0-1ca5f0b58f86",
   "metadata": {},
   "outputs": [],
   "source": []
  }
 ],
 "metadata": {
  "kernelspec": {
   "display_name": "Python 3 (ipykernel)",
   "language": "python",
   "name": "python3"
  },
  "language_info": {
   "codemirror_mode": {
    "name": "ipython",
    "version": 3
   },
   "file_extension": ".py",
   "mimetype": "text/x-python",
   "name": "python",
   "nbconvert_exporter": "python",
   "pygments_lexer": "ipython3",
   "version": "3.8.13"
  }
 },
 "nbformat": 4,
 "nbformat_minor": 5
}
